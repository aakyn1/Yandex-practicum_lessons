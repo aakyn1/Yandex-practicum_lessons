{
 "cells": [
  {
   "cell_type": "markdown",
   "metadata": {
    "toc": true
   },
   "source": [
    "<h1>Содержание<span class=\"tocSkip\"></span></h1>\n",
    "<div class=\"toc\"><ul class=\"toc-item\"><li><span><a href=\"#Подготовка-данных\" data-toc-modified-id=\"Подготовка-данных-1\"><span class=\"toc-item-num\">1&nbsp;&nbsp;</span>Подготовка данных</a></span></li><li><span><a href=\"#Исследование-задачи\" data-toc-modified-id=\"Исследование-задачи-2\"><span class=\"toc-item-num\">2&nbsp;&nbsp;</span>Исследование задачи</a></span></li><li><span><a href=\"#Борьба-с-дисбалансом\" data-toc-modified-id=\"Борьба-с-дисбалансом-3\"><span class=\"toc-item-num\">3&nbsp;&nbsp;</span>Борьба с дисбалансом</a></span></li><li><span><a href=\"#Тестирование-модели\" data-toc-modified-id=\"Тестирование-модели-4\"><span class=\"toc-item-num\">4&nbsp;&nbsp;</span>Тестирование модели</a></span></li><li><span><a href=\"#Чек-лист-готовности-проекта\" data-toc-modified-id=\"Чек-лист-готовности-проекта-5\"><span class=\"toc-item-num\">5&nbsp;&nbsp;</span>Чек-лист готовности проекта</a></span></li></ul></div>"
   ]
  },
  {
   "cell_type": "markdown",
   "metadata": {},
   "source": [
    "<div style=\"background-color:MintCream; border:solid CadetBlue 2px; padding: 20px\">\n",
    "<i>Привет, Александр! Меня зовут Панкратова Дарья, и я буду проверять твой проект. Предлагаю общаться на «ты» :) Но если это не удобно – дай знать, и мы перейдем на «вы». Моя основная цель — не указать на совершенные тобою ошибки, а поделиться своим опытом и помочь тебе.\n",
    "\n",
    "<div class=\"alert alert-success\">\n",
    "<b>👍 Успех:</b> Зелёным цветом отмечены удачные и элегантные решения, на которые можно опираться в будущих проектах.\n",
    "</div>\n",
    "<div class=\"alert alert-warning\">\n",
    "<b>🤔 Рекомендация:</b> Жёлтым цветом выделено то, что в следующий раз можно сделать по-другому. Ты можешь учесть эти комментарии при выполнении будущих заданий или доработать проект сейчас (однако это не обязательно).\n",
    "</div>\n",
    "<div class=\"alert alert-danger\">\n",
    "<b>😔 Необходимо исправить:</b> Красным цветом выделены комментарии, без исправления которых, я не смогу принять проект :(    \n",
    "</div>\n",
    "<div class=\"alert alert-info\">\n",
    "<b>👂 Совет:</b> Какие-то дополнительные материалы   \n",
    "</div>\n",
    "Давай работать над проектом в диалоге: если ты что-то меняешь в проекте по моим рекомендациям — пиши об этом. \n",
    "Мне будет легче отследить изменения, если ты выделишь свои комментарии:\n",
    "<div class=\"alert alert-info\"> <b>🎓 Комментарий студента:</b> Например, вот так.</div>\n",
    "Пожалуйста, не перемещай, не изменяй и не удаляй мои комментарии. Всё это поможет выполнить повторную проверку твоего проекта быстрее.\n",
    " </i></div>\n",
    " "
   ]
  },
  {
   "cell_type": "markdown",
   "metadata": {},
   "source": [
    "# Отток клиентов"
   ]
  },
  {
   "cell_type": "markdown",
   "metadata": {},
   "source": [
    "Из «Бета-Банка» стали уходить клиенты. Каждый месяц. Немного, но заметно. Банковские маркетологи посчитали: сохранять текущих клиентов дешевле, чем привлекать новых.\n",
    "\n",
    "Нужно спрогнозировать, уйдёт клиент из банка в ближайшее время или нет. Вам предоставлены исторические данные о поведении клиентов и расторжении договоров с банком. \n",
    "\n",
    "Постройте модель с предельно большим значением *F1*-меры. Чтобы сдать проект успешно, нужно довести метрику до 0.59. Проверьте *F1*-меру на тестовой выборке самостоятельно.\n",
    "\n",
    "Дополнительно измеряйте *AUC-ROC*, сравнивайте её значение с *F1*-мерой.\n",
    "\n",
    "Источник данных: [https://www.kaggle.com/barelydedicated/bank-customer-churn-modeling](https://www.kaggle.com/barelydedicated/bank-customer-churn-modeling)"
   ]
  },
  {
   "cell_type": "markdown",
   "metadata": {},
   "source": [
    "## Подготовка данных"
   ]
  },
  {
   "cell_type": "code",
   "execution_count": 80,
   "metadata": {},
   "outputs": [],
   "source": [
    "#импорт нужных библиотек\n",
    "import pandas as pd\n",
    "import matplotlib as mpl\n",
    "import matplotlib.pyplot as plt\n",
    "import numpy as np\n",
    "import math\n",
    "import plotly.express as px\n",
    "import numpy as np\n",
    "import seaborn as sns\n",
    "import warnings\n",
    "from functools import reduce\n",
    "from scipy import stats as st\n",
    "from pandas.plotting import scatter_matrix\n",
    "from sklearn.tree import DecisionTreeRegressor\n",
    "from sklearn.ensemble import RandomForestRegressor\n",
    "from sklearn.linear_model import LinearRegression\n",
    "from sklearn.model_selection import train_test_split\n",
    "from sklearn.metrics import mean_squared_error\n",
    "from sklearn.metrics import accuracy_score \n",
    "from sklearn.tree import DecisionTreeClassifier\n",
    "from sklearn.ensemble import RandomForestClassifier, GradientBoostingClassifier\n",
    "from sklearn.dummy import DummyClassifier\n",
    "from sklearn.preprocessing import StandardScaler\n",
    "from sklearn.metrics import accuracy_score,roc_auc_score,f1_score,precision_score, recall_score,confusion_matrix,r2_score\n",
    "from sklearn.utils import shuffle\n",
    "from sklearn.metrics import mean_squared_error\n",
    "from sklearn.metrics import roc_curve\n",
    "from sklearn.linear_model import LogisticRegression\n",
    "\n",
    "warnings.simplefilter(\"ignore\")\n",
    "pd.set_option('display.float_format', lambda x: '%.3f' % x)"
   ]
  },
  {
   "cell_type": "markdown",
   "metadata": {},
   "source": [
    "<div class=\"alert alert-success\">\n",
    "<b>👍 Успех:</b> Все импорты на месте\n",
    "</div>"
   ]
  },
  {
   "cell_type": "code",
   "execution_count": 81,
   "metadata": {},
   "outputs": [
    {
     "name": "stdout",
     "output_type": "stream",
     "text": [
      "<class 'pandas.core.frame.DataFrame'>\n",
      "RangeIndex: 10000 entries, 0 to 9999\n",
      "Data columns (total 14 columns):\n",
      " #   Column           Non-Null Count  Dtype  \n",
      "---  ------           --------------  -----  \n",
      " 0   RowNumber        10000 non-null  int64  \n",
      " 1   CustomerId       10000 non-null  int64  \n",
      " 2   Surname          10000 non-null  object \n",
      " 3   CreditScore      10000 non-null  int64  \n",
      " 4   Geography        10000 non-null  object \n",
      " 5   Gender           10000 non-null  object \n",
      " 6   Age              10000 non-null  int64  \n",
      " 7   Tenure           9091 non-null   float64\n",
      " 8   Balance          10000 non-null  float64\n",
      " 9   NumOfProducts    10000 non-null  int64  \n",
      " 10  HasCrCard        10000 non-null  int64  \n",
      " 11  IsActiveMember   10000 non-null  int64  \n",
      " 12  EstimatedSalary  10000 non-null  float64\n",
      " 13  Exited           10000 non-null  int64  \n",
      "dtypes: float64(3), int64(8), object(3)\n",
      "memory usage: 1.1+ MB\n"
     ]
    }
   ],
   "source": [
    "df=pd.read_csv('/datasets/Churn.csv')\n",
    "df.info()"
   ]
  },
  {
   "cell_type": "markdown",
   "metadata": {},
   "source": [
    "Признаки\n",
    "* RowNumber — индекс строки в данных\n",
    "* CustomerId — уникальный идентификатор клиента\n",
    "* Surname — фамилия\n",
    "* CreditScore — кредитный рейтинг\n",
    "* Geography — страна проживания\n",
    "* Gender — пол\n",
    "* Age — возраст\n",
    "* Tenure — сколько лет человек является клиентом банка\n",
    "* Balance — баланс на счёте\n",
    "* NumOfProducts — количество продуктов банка, используемых клиентом\n",
    "* HasCrCard — наличие кредитной карты\n",
    "* IsActiveMember — активность клиента\n",
    "* EstimatedSalary — предполагаемая зарплата"
   ]
  },
  {
   "cell_type": "markdown",
   "metadata": {},
   "source": [
    "Целевой признак\n",
    "* Exited — факт ухода клиента"
   ]
  },
  {
   "cell_type": "code",
   "execution_count": 82,
   "metadata": {},
   "outputs": [
    {
     "data": {
      "text/html": [
       "<div>\n",
       "<style scoped>\n",
       "    .dataframe tbody tr th:only-of-type {\n",
       "        vertical-align: middle;\n",
       "    }\n",
       "\n",
       "    .dataframe tbody tr th {\n",
       "        vertical-align: top;\n",
       "    }\n",
       "\n",
       "    .dataframe thead th {\n",
       "        text-align: right;\n",
       "    }\n",
       "</style>\n",
       "<table border=\"1\" class=\"dataframe\">\n",
       "  <thead>\n",
       "    <tr style=\"text-align: right;\">\n",
       "      <th></th>\n",
       "      <th>RowNumber</th>\n",
       "      <th>CustomerId</th>\n",
       "      <th>CreditScore</th>\n",
       "      <th>Age</th>\n",
       "      <th>Tenure</th>\n",
       "      <th>Balance</th>\n",
       "      <th>NumOfProducts</th>\n",
       "      <th>HasCrCard</th>\n",
       "      <th>IsActiveMember</th>\n",
       "      <th>EstimatedSalary</th>\n",
       "      <th>Exited</th>\n",
       "    </tr>\n",
       "  </thead>\n",
       "  <tbody>\n",
       "    <tr>\n",
       "      <th>count</th>\n",
       "      <td>10000.000</td>\n",
       "      <td>10000.000</td>\n",
       "      <td>10000.000</td>\n",
       "      <td>10000.000</td>\n",
       "      <td>9091.000</td>\n",
       "      <td>10000.000</td>\n",
       "      <td>10000.000</td>\n",
       "      <td>10000.000</td>\n",
       "      <td>10000.000</td>\n",
       "      <td>10000.000</td>\n",
       "      <td>10000.000</td>\n",
       "    </tr>\n",
       "    <tr>\n",
       "      <th>mean</th>\n",
       "      <td>5000.500</td>\n",
       "      <td>15690940.569</td>\n",
       "      <td>650.529</td>\n",
       "      <td>38.922</td>\n",
       "      <td>4.998</td>\n",
       "      <td>76485.889</td>\n",
       "      <td>1.530</td>\n",
       "      <td>0.706</td>\n",
       "      <td>0.515</td>\n",
       "      <td>100090.240</td>\n",
       "      <td>0.204</td>\n",
       "    </tr>\n",
       "    <tr>\n",
       "      <th>std</th>\n",
       "      <td>2886.896</td>\n",
       "      <td>71936.186</td>\n",
       "      <td>96.653</td>\n",
       "      <td>10.488</td>\n",
       "      <td>2.895</td>\n",
       "      <td>62397.405</td>\n",
       "      <td>0.582</td>\n",
       "      <td>0.456</td>\n",
       "      <td>0.500</td>\n",
       "      <td>57510.493</td>\n",
       "      <td>0.403</td>\n",
       "    </tr>\n",
       "    <tr>\n",
       "      <th>min</th>\n",
       "      <td>1.000</td>\n",
       "      <td>15565701.000</td>\n",
       "      <td>350.000</td>\n",
       "      <td>18.000</td>\n",
       "      <td>0.000</td>\n",
       "      <td>0.000</td>\n",
       "      <td>1.000</td>\n",
       "      <td>0.000</td>\n",
       "      <td>0.000</td>\n",
       "      <td>11.580</td>\n",
       "      <td>0.000</td>\n",
       "    </tr>\n",
       "    <tr>\n",
       "      <th>25%</th>\n",
       "      <td>2500.750</td>\n",
       "      <td>15628528.250</td>\n",
       "      <td>584.000</td>\n",
       "      <td>32.000</td>\n",
       "      <td>2.000</td>\n",
       "      <td>0.000</td>\n",
       "      <td>1.000</td>\n",
       "      <td>0.000</td>\n",
       "      <td>0.000</td>\n",
       "      <td>51002.110</td>\n",
       "      <td>0.000</td>\n",
       "    </tr>\n",
       "    <tr>\n",
       "      <th>50%</th>\n",
       "      <td>5000.500</td>\n",
       "      <td>15690738.000</td>\n",
       "      <td>652.000</td>\n",
       "      <td>37.000</td>\n",
       "      <td>5.000</td>\n",
       "      <td>97198.540</td>\n",
       "      <td>1.000</td>\n",
       "      <td>1.000</td>\n",
       "      <td>1.000</td>\n",
       "      <td>100193.915</td>\n",
       "      <td>0.000</td>\n",
       "    </tr>\n",
       "    <tr>\n",
       "      <th>75%</th>\n",
       "      <td>7500.250</td>\n",
       "      <td>15753233.750</td>\n",
       "      <td>718.000</td>\n",
       "      <td>44.000</td>\n",
       "      <td>7.000</td>\n",
       "      <td>127644.240</td>\n",
       "      <td>2.000</td>\n",
       "      <td>1.000</td>\n",
       "      <td>1.000</td>\n",
       "      <td>149388.247</td>\n",
       "      <td>0.000</td>\n",
       "    </tr>\n",
       "    <tr>\n",
       "      <th>max</th>\n",
       "      <td>10000.000</td>\n",
       "      <td>15815690.000</td>\n",
       "      <td>850.000</td>\n",
       "      <td>92.000</td>\n",
       "      <td>10.000</td>\n",
       "      <td>250898.090</td>\n",
       "      <td>4.000</td>\n",
       "      <td>1.000</td>\n",
       "      <td>1.000</td>\n",
       "      <td>199992.480</td>\n",
       "      <td>1.000</td>\n",
       "    </tr>\n",
       "  </tbody>\n",
       "</table>\n",
       "</div>"
      ],
      "text/plain": [
       "       RowNumber   CustomerId  CreditScore       Age   Tenure    Balance  \\\n",
       "count  10000.000    10000.000    10000.000 10000.000 9091.000  10000.000   \n",
       "mean    5000.500 15690940.569      650.529    38.922    4.998  76485.889   \n",
       "std     2886.896    71936.186       96.653    10.488    2.895  62397.405   \n",
       "min        1.000 15565701.000      350.000    18.000    0.000      0.000   \n",
       "25%     2500.750 15628528.250      584.000    32.000    2.000      0.000   \n",
       "50%     5000.500 15690738.000      652.000    37.000    5.000  97198.540   \n",
       "75%     7500.250 15753233.750      718.000    44.000    7.000 127644.240   \n",
       "max    10000.000 15815690.000      850.000    92.000   10.000 250898.090   \n",
       "\n",
       "       NumOfProducts  HasCrCard  IsActiveMember  EstimatedSalary    Exited  \n",
       "count      10000.000  10000.000       10000.000        10000.000 10000.000  \n",
       "mean           1.530      0.706           0.515       100090.240     0.204  \n",
       "std            0.582      0.456           0.500        57510.493     0.403  \n",
       "min            1.000      0.000           0.000           11.580     0.000  \n",
       "25%            1.000      0.000           0.000        51002.110     0.000  \n",
       "50%            1.000      1.000           1.000       100193.915     0.000  \n",
       "75%            2.000      1.000           1.000       149388.247     0.000  \n",
       "max            4.000      1.000           1.000       199992.480     1.000  "
      ]
     },
     "execution_count": 82,
     "metadata": {},
     "output_type": "execute_result"
    }
   ],
   "source": [
    "df.describe()"
   ]
  },
  {
   "cell_type": "code",
   "execution_count": 83,
   "metadata": {},
   "outputs": [
    {
     "data": {
      "text/plain": [
       "RowNumber            int64\n",
       "CustomerId           int64\n",
       "Surname             object\n",
       "CreditScore          int64\n",
       "Geography           object\n",
       "Gender              object\n",
       "Age                  int64\n",
       "Tenure             float64\n",
       "Balance            float64\n",
       "NumOfProducts        int64\n",
       "HasCrCard            int64\n",
       "IsActiveMember       int64\n",
       "EstimatedSalary    float64\n",
       "Exited               int64\n",
       "dtype: object"
      ]
     },
     "execution_count": 83,
     "metadata": {},
     "output_type": "execute_result"
    }
   ],
   "source": [
    "df.dtypes"
   ]
  },
  {
   "cell_type": "markdown",
   "metadata": {},
   "source": [
    "В признаке \"Tenure\" присутствуют пропуски. Нужно разобраться в причинах и повозможности обработать их. По данным видно, что данные в колонке \"Age\" без явных ошибок, возраст соотвествует минимальному для открытия счета в банке, максимальный возраст тоже в пределах нормы. Аналогично по признакам \"Balance\" & \"NumOfProducts\". Нужно проверить минимальную предполагаемую зарплату - \"EstimatedSalary\" показатель достаточно мал.Проведем анализ в следующих шагах.Некоторые признаки нужно перевести в численное значение, для обучения модели."
   ]
  },
  {
   "cell_type": "code",
   "execution_count": 84,
   "metadata": {},
   "outputs": [
    {
     "data": {
      "text/html": [
       "<div>\n",
       "<style scoped>\n",
       "    .dataframe tbody tr th:only-of-type {\n",
       "        vertical-align: middle;\n",
       "    }\n",
       "\n",
       "    .dataframe tbody tr th {\n",
       "        vertical-align: top;\n",
       "    }\n",
       "\n",
       "    .dataframe thead th {\n",
       "        text-align: right;\n",
       "    }\n",
       "</style>\n",
       "<table border=\"1\" class=\"dataframe\">\n",
       "  <thead>\n",
       "    <tr style=\"text-align: right;\">\n",
       "      <th></th>\n",
       "      <th>RowNumber</th>\n",
       "      <th>CustomerId</th>\n",
       "      <th>Surname</th>\n",
       "      <th>CreditScore</th>\n",
       "      <th>Geography</th>\n",
       "      <th>Gender</th>\n",
       "      <th>Age</th>\n",
       "      <th>Tenure</th>\n",
       "      <th>Balance</th>\n",
       "      <th>NumOfProducts</th>\n",
       "      <th>HasCrCard</th>\n",
       "      <th>IsActiveMember</th>\n",
       "      <th>EstimatedSalary</th>\n",
       "      <th>Exited</th>\n",
       "    </tr>\n",
       "  </thead>\n",
       "  <tbody>\n",
       "    <tr>\n",
       "      <th>30</th>\n",
       "      <td>31</td>\n",
       "      <td>15589475</td>\n",
       "      <td>Azikiwe</td>\n",
       "      <td>591</td>\n",
       "      <td>Spain</td>\n",
       "      <td>Female</td>\n",
       "      <td>39</td>\n",
       "      <td>NaN</td>\n",
       "      <td>0.000</td>\n",
       "      <td>3</td>\n",
       "      <td>1</td>\n",
       "      <td>0</td>\n",
       "      <td>140469.380</td>\n",
       "      <td>1</td>\n",
       "    </tr>\n",
       "    <tr>\n",
       "      <th>48</th>\n",
       "      <td>49</td>\n",
       "      <td>15766205</td>\n",
       "      <td>Yin</td>\n",
       "      <td>550</td>\n",
       "      <td>Germany</td>\n",
       "      <td>Male</td>\n",
       "      <td>38</td>\n",
       "      <td>NaN</td>\n",
       "      <td>103391.380</td>\n",
       "      <td>1</td>\n",
       "      <td>0</td>\n",
       "      <td>1</td>\n",
       "      <td>90878.130</td>\n",
       "      <td>0</td>\n",
       "    </tr>\n",
       "    <tr>\n",
       "      <th>51</th>\n",
       "      <td>52</td>\n",
       "      <td>15768193</td>\n",
       "      <td>Trevisani</td>\n",
       "      <td>585</td>\n",
       "      <td>Germany</td>\n",
       "      <td>Male</td>\n",
       "      <td>36</td>\n",
       "      <td>NaN</td>\n",
       "      <td>146050.970</td>\n",
       "      <td>2</td>\n",
       "      <td>0</td>\n",
       "      <td>0</td>\n",
       "      <td>86424.570</td>\n",
       "      <td>0</td>\n",
       "    </tr>\n",
       "    <tr>\n",
       "      <th>53</th>\n",
       "      <td>54</td>\n",
       "      <td>15702298</td>\n",
       "      <td>Parkhill</td>\n",
       "      <td>655</td>\n",
       "      <td>Germany</td>\n",
       "      <td>Male</td>\n",
       "      <td>41</td>\n",
       "      <td>NaN</td>\n",
       "      <td>125561.970</td>\n",
       "      <td>1</td>\n",
       "      <td>0</td>\n",
       "      <td>0</td>\n",
       "      <td>164040.940</td>\n",
       "      <td>1</td>\n",
       "    </tr>\n",
       "    <tr>\n",
       "      <th>60</th>\n",
       "      <td>61</td>\n",
       "      <td>15651280</td>\n",
       "      <td>Hunter</td>\n",
       "      <td>742</td>\n",
       "      <td>Germany</td>\n",
       "      <td>Male</td>\n",
       "      <td>35</td>\n",
       "      <td>NaN</td>\n",
       "      <td>136857.000</td>\n",
       "      <td>1</td>\n",
       "      <td>0</td>\n",
       "      <td>0</td>\n",
       "      <td>84509.570</td>\n",
       "      <td>0</td>\n",
       "    </tr>\n",
       "    <tr>\n",
       "      <th>...</th>\n",
       "      <td>...</td>\n",
       "      <td>...</td>\n",
       "      <td>...</td>\n",
       "      <td>...</td>\n",
       "      <td>...</td>\n",
       "      <td>...</td>\n",
       "      <td>...</td>\n",
       "      <td>...</td>\n",
       "      <td>...</td>\n",
       "      <td>...</td>\n",
       "      <td>...</td>\n",
       "      <td>...</td>\n",
       "      <td>...</td>\n",
       "      <td>...</td>\n",
       "    </tr>\n",
       "    <tr>\n",
       "      <th>9944</th>\n",
       "      <td>9945</td>\n",
       "      <td>15703923</td>\n",
       "      <td>Cameron</td>\n",
       "      <td>744</td>\n",
       "      <td>Germany</td>\n",
       "      <td>Male</td>\n",
       "      <td>41</td>\n",
       "      <td>NaN</td>\n",
       "      <td>190409.340</td>\n",
       "      <td>2</td>\n",
       "      <td>1</td>\n",
       "      <td>1</td>\n",
       "      <td>138361.480</td>\n",
       "      <td>0</td>\n",
       "    </tr>\n",
       "    <tr>\n",
       "      <th>9956</th>\n",
       "      <td>9957</td>\n",
       "      <td>15707861</td>\n",
       "      <td>Nucci</td>\n",
       "      <td>520</td>\n",
       "      <td>France</td>\n",
       "      <td>Female</td>\n",
       "      <td>46</td>\n",
       "      <td>NaN</td>\n",
       "      <td>85216.610</td>\n",
       "      <td>1</td>\n",
       "      <td>1</td>\n",
       "      <td>0</td>\n",
       "      <td>117369.520</td>\n",
       "      <td>1</td>\n",
       "    </tr>\n",
       "    <tr>\n",
       "      <th>9964</th>\n",
       "      <td>9965</td>\n",
       "      <td>15642785</td>\n",
       "      <td>Douglas</td>\n",
       "      <td>479</td>\n",
       "      <td>France</td>\n",
       "      <td>Male</td>\n",
       "      <td>34</td>\n",
       "      <td>NaN</td>\n",
       "      <td>117593.480</td>\n",
       "      <td>2</td>\n",
       "      <td>0</td>\n",
       "      <td>0</td>\n",
       "      <td>113308.290</td>\n",
       "      <td>0</td>\n",
       "    </tr>\n",
       "    <tr>\n",
       "      <th>9985</th>\n",
       "      <td>9986</td>\n",
       "      <td>15586914</td>\n",
       "      <td>Nepean</td>\n",
       "      <td>659</td>\n",
       "      <td>France</td>\n",
       "      <td>Male</td>\n",
       "      <td>36</td>\n",
       "      <td>NaN</td>\n",
       "      <td>123841.490</td>\n",
       "      <td>2</td>\n",
       "      <td>1</td>\n",
       "      <td>0</td>\n",
       "      <td>96833.000</td>\n",
       "      <td>0</td>\n",
       "    </tr>\n",
       "    <tr>\n",
       "      <th>9999</th>\n",
       "      <td>10000</td>\n",
       "      <td>15628319</td>\n",
       "      <td>Walker</td>\n",
       "      <td>792</td>\n",
       "      <td>France</td>\n",
       "      <td>Female</td>\n",
       "      <td>28</td>\n",
       "      <td>NaN</td>\n",
       "      <td>130142.790</td>\n",
       "      <td>1</td>\n",
       "      <td>1</td>\n",
       "      <td>0</td>\n",
       "      <td>38190.780</td>\n",
       "      <td>0</td>\n",
       "    </tr>\n",
       "  </tbody>\n",
       "</table>\n",
       "<p>909 rows × 14 columns</p>\n",
       "</div>"
      ],
      "text/plain": [
       "      RowNumber  CustomerId    Surname  CreditScore Geography  Gender  Age  \\\n",
       "30           31    15589475    Azikiwe          591     Spain  Female   39   \n",
       "48           49    15766205        Yin          550   Germany    Male   38   \n",
       "51           52    15768193  Trevisani          585   Germany    Male   36   \n",
       "53           54    15702298   Parkhill          655   Germany    Male   41   \n",
       "60           61    15651280     Hunter          742   Germany    Male   35   \n",
       "...         ...         ...        ...          ...       ...     ...  ...   \n",
       "9944       9945    15703923    Cameron          744   Germany    Male   41   \n",
       "9956       9957    15707861      Nucci          520    France  Female   46   \n",
       "9964       9965    15642785    Douglas          479    France    Male   34   \n",
       "9985       9986    15586914     Nepean          659    France    Male   36   \n",
       "9999      10000    15628319     Walker          792    France  Female   28   \n",
       "\n",
       "      Tenure    Balance  NumOfProducts  HasCrCard  IsActiveMember  \\\n",
       "30       NaN      0.000              3          1               0   \n",
       "48       NaN 103391.380              1          0               1   \n",
       "51       NaN 146050.970              2          0               0   \n",
       "53       NaN 125561.970              1          0               0   \n",
       "60       NaN 136857.000              1          0               0   \n",
       "...      ...        ...            ...        ...             ...   \n",
       "9944     NaN 190409.340              2          1               1   \n",
       "9956     NaN  85216.610              1          1               0   \n",
       "9964     NaN 117593.480              2          0               0   \n",
       "9985     NaN 123841.490              2          1               0   \n",
       "9999     NaN 130142.790              1          1               0   \n",
       "\n",
       "      EstimatedSalary  Exited  \n",
       "30         140469.380       1  \n",
       "48          90878.130       0  \n",
       "51          86424.570       0  \n",
       "53         164040.940       1  \n",
       "60          84509.570       0  \n",
       "...               ...     ...  \n",
       "9944       138361.480       0  \n",
       "9956       117369.520       1  \n",
       "9964       113308.290       0  \n",
       "9985        96833.000       0  \n",
       "9999        38190.780       0  \n",
       "\n",
       "[909 rows x 14 columns]"
      ]
     },
     "metadata": {},
     "output_type": "display_data"
    }
   ],
   "source": [
    "display(df[df['Tenure'].isna()==True])"
   ]
  },
  {
   "cell_type": "markdown",
   "metadata": {},
   "source": [
    "Причин отсутствия значений в признаке не найдено. Нужно посчитать насколько существен объем пропусков относительно объема данных."
   ]
  },
  {
   "cell_type": "code",
   "execution_count": 85,
   "metadata": {},
   "outputs": [
    {
     "name": "stdout",
     "output_type": "stream",
     "text": [
      "10.0 % пропусков в данных\n"
     ]
    }
   ],
   "source": [
    "print((df['Tenure'].isna().sum()/df['Tenure'].count()).round(2)*100,'% пропусков в данных')"
   ]
  },
  {
   "cell_type": "markdown",
   "metadata": {},
   "source": [
    "Объем пропусков значительный, можно заменить их на случайные величины в пределах данных, чтобы неиспортить исходники."
   ]
  },
  {
   "cell_type": "code",
   "execution_count": 86,
   "metadata": {},
   "outputs": [
    {
     "name": "stdout",
     "output_type": "stream",
     "text": [
      "<class 'pandas.core.frame.DataFrame'>\n",
      "RangeIndex: 10000 entries, 0 to 9999\n",
      "Data columns (total 14 columns):\n",
      " #   Column           Non-Null Count  Dtype  \n",
      "---  ------           --------------  -----  \n",
      " 0   RowNumber        10000 non-null  int64  \n",
      " 1   CustomerId       10000 non-null  int64  \n",
      " 2   Surname          10000 non-null  object \n",
      " 3   CreditScore      10000 non-null  int64  \n",
      " 4   Geography        10000 non-null  object \n",
      " 5   Gender           10000 non-null  object \n",
      " 6   Age              10000 non-null  int64  \n",
      " 7   Tenure           10000 non-null  float64\n",
      " 8   Balance          10000 non-null  float64\n",
      " 9   NumOfProducts    10000 non-null  int64  \n",
      " 10  HasCrCard        10000 non-null  int64  \n",
      " 11  IsActiveMember   10000 non-null  int64  \n",
      " 12  EstimatedSalary  10000 non-null  float64\n",
      " 13  Exited           10000 non-null  int64  \n",
      "dtypes: float64(3), int64(8), object(3)\n",
      "memory usage: 1.1+ MB\n"
     ]
    }
   ],
   "source": [
    "rnd_numbers = (np.random.randint(0,10,size=df['Tenure'].isna().sum()))\n",
    "df.loc[df['Tenure'].isna(),'Tenure']=rnd_numbers\n",
    "df.info()"
   ]
  },
  {
   "cell_type": "markdown",
   "metadata": {},
   "source": [
    "<div class=\"alert alert-success\">\n",
    "<b>👍 Успех:</b> Отличная идея по заполнению.\n",
    "</div>"
   ]
  },
  {
   "cell_type": "markdown",
   "metadata": {},
   "source": [
    "Успешно заменили пропуски в признаке, можно продолжать анализ"
   ]
  },
  {
   "cell_type": "code",
   "execution_count": 87,
   "metadata": {},
   "outputs": [
    {
     "data": {
      "text/html": [
       "<div>\n",
       "<style scoped>\n",
       "    .dataframe tbody tr th:only-of-type {\n",
       "        vertical-align: middle;\n",
       "    }\n",
       "\n",
       "    .dataframe tbody tr th {\n",
       "        vertical-align: top;\n",
       "    }\n",
       "\n",
       "    .dataframe thead th {\n",
       "        text-align: right;\n",
       "    }\n",
       "</style>\n",
       "<table border=\"1\" class=\"dataframe\">\n",
       "  <thead>\n",
       "    <tr style=\"text-align: right;\">\n",
       "      <th></th>\n",
       "      <th>RowNumber</th>\n",
       "      <th>CustomerId</th>\n",
       "      <th>Surname</th>\n",
       "      <th>CreditScore</th>\n",
       "      <th>Geography</th>\n",
       "      <th>Gender</th>\n",
       "      <th>Age</th>\n",
       "      <th>Tenure</th>\n",
       "      <th>Balance</th>\n",
       "      <th>NumOfProducts</th>\n",
       "      <th>HasCrCard</th>\n",
       "      <th>IsActiveMember</th>\n",
       "      <th>EstimatedSalary</th>\n",
       "      <th>Exited</th>\n",
       "    </tr>\n",
       "  </thead>\n",
       "  <tbody>\n",
       "  </tbody>\n",
       "</table>\n",
       "</div>"
      ],
      "text/plain": [
       "Empty DataFrame\n",
       "Columns: [RowNumber, CustomerId, Surname, CreditScore, Geography, Gender, Age, Tenure, Balance, NumOfProducts, HasCrCard, IsActiveMember, EstimatedSalary, Exited]\n",
       "Index: []"
      ]
     },
     "metadata": {},
     "output_type": "display_data"
    }
   ],
   "source": [
    "display(df[df['CustomerId'].duplicated()==True])"
   ]
  },
  {
   "cell_type": "code",
   "execution_count": 88,
   "metadata": {},
   "outputs": [
    {
     "data": {
      "text/html": [
       "<div>\n",
       "<style scoped>\n",
       "    .dataframe tbody tr th:only-of-type {\n",
       "        vertical-align: middle;\n",
       "    }\n",
       "\n",
       "    .dataframe tbody tr th {\n",
       "        vertical-align: top;\n",
       "    }\n",
       "\n",
       "    .dataframe thead th {\n",
       "        text-align: right;\n",
       "    }\n",
       "</style>\n",
       "<table border=\"1\" class=\"dataframe\">\n",
       "  <thead>\n",
       "    <tr style=\"text-align: right;\">\n",
       "      <th></th>\n",
       "      <th>RowNumber</th>\n",
       "      <th>CustomerId</th>\n",
       "      <th>Surname</th>\n",
       "      <th>CreditScore</th>\n",
       "      <th>Geography</th>\n",
       "      <th>Gender</th>\n",
       "      <th>Age</th>\n",
       "      <th>Tenure</th>\n",
       "      <th>Balance</th>\n",
       "      <th>NumOfProducts</th>\n",
       "      <th>HasCrCard</th>\n",
       "      <th>IsActiveMember</th>\n",
       "      <th>EstimatedSalary</th>\n",
       "      <th>Exited</th>\n",
       "    </tr>\n",
       "  </thead>\n",
       "  <tbody>\n",
       "  </tbody>\n",
       "</table>\n",
       "</div>"
      ],
      "text/plain": [
       "Empty DataFrame\n",
       "Columns: [RowNumber, CustomerId, Surname, CreditScore, Geography, Gender, Age, Tenure, Balance, NumOfProducts, HasCrCard, IsActiveMember, EstimatedSalary, Exited]\n",
       "Index: []"
      ]
     },
     "metadata": {},
     "output_type": "display_data"
    }
   ],
   "source": [
    "display(df[df.duplicated()==True])"
   ]
  },
  {
   "cell_type": "markdown",
   "metadata": {},
   "source": [
    "Явных дубликатов в данных нет."
   ]
  },
  {
   "cell_type": "code",
   "execution_count": 89,
   "metadata": {},
   "outputs": [
    {
     "name": "stdout",
     "output_type": "stream",
     "text": [
      "RowNumber          59\n",
      "CustomerId         59\n",
      "Surname            59\n",
      "CreditScore        59\n",
      "Geography          59\n",
      "Gender             59\n",
      "Age                59\n",
      "Tenure             59\n",
      "Balance            59\n",
      "NumOfProducts      59\n",
      "HasCrCard          59\n",
      "IsActiveMember     59\n",
      "EstimatedSalary    59\n",
      "Exited             59\n",
      "dtype: int64\n"
     ]
    }
   ],
   "source": [
    "print(df[df['EstimatedSalary']<=1000].sort_values(by='EstimatedSalary',ascending=True).count())"
   ]
  },
  {
   "cell_type": "markdown",
   "metadata": {},
   "source": [
    "59 записей с предполагаемой зарплатой меньше 1000 единиц. Так как мы не знаем валюту (можно использовать валюту страны, однако счет может быть открыть в евро/долларах и расчет вестись тоже в этих валютах или другой) мы не будем удалять или менять исходные данные. Оставим как есть."
   ]
  },
  {
   "cell_type": "code",
   "execution_count": 90,
   "metadata": {},
   "outputs": [
    {
     "data": {
      "image/png": "[encoded data removed]",
      "text/plain": [
       "<Figure size 864x648 with 6 Axes>"
      ]
     },
     "metadata": {
      "needs_background": "light"
     },
     "output_type": "display_data"
    }
   ],
   "source": [
    "fig, (ax1,ax2,ax3,ax4,ax5,ax6) = plt.subplots(nrows=1, ncols=6,figsize=(12,9))\n",
    "\n",
    "p = {ax1:'CreditScore', ax2:'Age', ax3:'Tenure', ax4:'Balance',ax5:'NumOfProducts',ax6:'EstimatedSalary'}\n",
    "for ax in [ax1,ax2, ax3,ax4,ax5,ax6]:\n",
    "    ax.boxplot(df[p[ax]])\n",
    "    ax.grid()\n",
    "    ax.set_title(p[ax])\n",
    "\n",
    "fig.autofmt_xdate()"
   ]
  },
  {
   "cell_type": "markdown",
   "metadata": {},
   "source": [
    "Из графиков видно, что данные в целом распределены без сильных выбросов. Можно их использовать для анализа"
   ]
  },
  {
   "cell_type": "markdown",
   "metadata": {},
   "source": [
    "<div class=\"alert alert-success\">\n",
    "<b>👍 Успех:</b> Данные хорошо проанализированы. Ты хорошо владеешь инструментами первичной обработки\n",
    "</div>\n",
    "<div class=\"alert alert-info\">\n",
    "<b>👂 Совет:</b> Можешь еще попробовать <a href = \"https://github.com/ydataai/pandas-profiling\"> библиотеку pandas-profiling</a> Она может построить красивые отчеты о данных. Правда, она не установлена на тренажере. Но ее можно установить через команду !pip install pandas-profiling  \n",
    "</div>"
   ]
  },
  {
   "cell_type": "markdown",
   "metadata": {},
   "source": [
    "<div class=\"alert alert-info\"> <b>🎓 Комментарий студента:</b> Спасибо, учту!</div>"
   ]
  },
  {
   "cell_type": "markdown",
   "metadata": {},
   "source": [
    "## Исследование задачи"
   ]
  },
  {
   "cell_type": "code",
   "execution_count": 91,
   "metadata": {},
   "outputs": [
    {
     "data": {
      "text/html": [
       "<div>\n",
       "<style scoped>\n",
       "    .dataframe tbody tr th:only-of-type {\n",
       "        vertical-align: middle;\n",
       "    }\n",
       "\n",
       "    .dataframe tbody tr th {\n",
       "        vertical-align: top;\n",
       "    }\n",
       "\n",
       "    .dataframe thead th {\n",
       "        text-align: right;\n",
       "    }\n",
       "</style>\n",
       "<table border=\"1\" class=\"dataframe\">\n",
       "  <thead>\n",
       "    <tr style=\"text-align: right;\">\n",
       "      <th></th>\n",
       "      <th>CreditScore</th>\n",
       "      <th>Geography</th>\n",
       "      <th>Gender</th>\n",
       "      <th>Age</th>\n",
       "      <th>Tenure</th>\n",
       "      <th>Balance</th>\n",
       "      <th>NumOfProducts</th>\n",
       "      <th>HasCrCard</th>\n",
       "      <th>IsActiveMember</th>\n",
       "      <th>EstimatedSalary</th>\n",
       "      <th>Exited</th>\n",
       "    </tr>\n",
       "  </thead>\n",
       "  <tbody>\n",
       "    <tr>\n",
       "      <th>0</th>\n",
       "      <td>619</td>\n",
       "      <td>France</td>\n",
       "      <td>Female</td>\n",
       "      <td>42</td>\n",
       "      <td>2.000</td>\n",
       "      <td>0.000</td>\n",
       "      <td>1</td>\n",
       "      <td>1</td>\n",
       "      <td>1</td>\n",
       "      <td>101348.880</td>\n",
       "      <td>1</td>\n",
       "    </tr>\n",
       "    <tr>\n",
       "      <th>1</th>\n",
       "      <td>608</td>\n",
       "      <td>Spain</td>\n",
       "      <td>Female</td>\n",
       "      <td>41</td>\n",
       "      <td>1.000</td>\n",
       "      <td>83807.860</td>\n",
       "      <td>1</td>\n",
       "      <td>0</td>\n",
       "      <td>1</td>\n",
       "      <td>112542.580</td>\n",
       "      <td>0</td>\n",
       "    </tr>\n",
       "    <tr>\n",
       "      <th>2</th>\n",
       "      <td>502</td>\n",
       "      <td>France</td>\n",
       "      <td>Female</td>\n",
       "      <td>42</td>\n",
       "      <td>8.000</td>\n",
       "      <td>159660.800</td>\n",
       "      <td>3</td>\n",
       "      <td>1</td>\n",
       "      <td>0</td>\n",
       "      <td>113931.570</td>\n",
       "      <td>1</td>\n",
       "    </tr>\n",
       "    <tr>\n",
       "      <th>3</th>\n",
       "      <td>699</td>\n",
       "      <td>France</td>\n",
       "      <td>Female</td>\n",
       "      <td>39</td>\n",
       "      <td>1.000</td>\n",
       "      <td>0.000</td>\n",
       "      <td>2</td>\n",
       "      <td>0</td>\n",
       "      <td>0</td>\n",
       "      <td>93826.630</td>\n",
       "      <td>0</td>\n",
       "    </tr>\n",
       "    <tr>\n",
       "      <th>4</th>\n",
       "      <td>850</td>\n",
       "      <td>Spain</td>\n",
       "      <td>Female</td>\n",
       "      <td>43</td>\n",
       "      <td>2.000</td>\n",
       "      <td>125510.820</td>\n",
       "      <td>1</td>\n",
       "      <td>1</td>\n",
       "      <td>1</td>\n",
       "      <td>79084.100</td>\n",
       "      <td>0</td>\n",
       "    </tr>\n",
       "  </tbody>\n",
       "</table>\n",
       "</div>"
      ],
      "text/plain": [
       "   CreditScore Geography  Gender  Age  Tenure    Balance  NumOfProducts  \\\n",
       "0          619    France  Female   42   2.000      0.000              1   \n",
       "1          608     Spain  Female   41   1.000  83807.860              1   \n",
       "2          502    France  Female   42   8.000 159660.800              3   \n",
       "3          699    France  Female   39   1.000      0.000              2   \n",
       "4          850     Spain  Female   43   2.000 125510.820              1   \n",
       "\n",
       "   HasCrCard  IsActiveMember  EstimatedSalary  Exited  \n",
       "0          1               1       101348.880       1  \n",
       "1          0               1       112542.580       0  \n",
       "2          1               0       113931.570       1  \n",
       "3          0               0        93826.630       0  \n",
       "4          1               1        79084.100       0  "
      ]
     },
     "execution_count": 91,
     "metadata": {},
     "output_type": "execute_result"
    }
   ],
   "source": [
    "df.drop(columns=['CustomerId','Surname','RowNumber'],axis=1,inplace=True)\n",
    "df.head()"
   ]
  },
  {
   "cell_type": "markdown",
   "metadata": {},
   "source": [
    "<div class=\"alert alert-success\">\n",
    "<b>👍 Успех:</b> Хорошая идея удалить лишнее\n",
    "</div>"
   ]
  },
  {
   "cell_type": "markdown",
   "metadata": {},
   "source": [
    "Мы убрали ненужные в анализе данные,чтобы использовать таблицу для обучения"
   ]
  },
  {
   "cell_type": "code",
   "execution_count": 92,
   "metadata": {},
   "outputs": [
    {
     "data": {
      "text/html": [
       "<div>\n",
       "<style scoped>\n",
       "    .dataframe tbody tr th:only-of-type {\n",
       "        vertical-align: middle;\n",
       "    }\n",
       "\n",
       "    .dataframe tbody tr th {\n",
       "        vertical-align: top;\n",
       "    }\n",
       "\n",
       "    .dataframe thead th {\n",
       "        text-align: right;\n",
       "    }\n",
       "</style>\n",
       "<table border=\"1\" class=\"dataframe\">\n",
       "  <thead>\n",
       "    <tr style=\"text-align: right;\">\n",
       "      <th></th>\n",
       "      <th>CreditScore</th>\n",
       "      <th>Age</th>\n",
       "      <th>Tenure</th>\n",
       "      <th>Balance</th>\n",
       "      <th>NumOfProducts</th>\n",
       "      <th>HasCrCard</th>\n",
       "      <th>IsActiveMember</th>\n",
       "      <th>EstimatedSalary</th>\n",
       "      <th>Exited</th>\n",
       "      <th>Geography_Germany</th>\n",
       "      <th>Geography_Spain</th>\n",
       "      <th>Gender_Male</th>\n",
       "    </tr>\n",
       "  </thead>\n",
       "  <tbody>\n",
       "    <tr>\n",
       "      <th>0</th>\n",
       "      <td>619</td>\n",
       "      <td>42</td>\n",
       "      <td>2.000</td>\n",
       "      <td>0.000</td>\n",
       "      <td>1</td>\n",
       "      <td>1</td>\n",
       "      <td>1</td>\n",
       "      <td>101348.880</td>\n",
       "      <td>1</td>\n",
       "      <td>0</td>\n",
       "      <td>0</td>\n",
       "      <td>0</td>\n",
       "    </tr>\n",
       "    <tr>\n",
       "      <th>1</th>\n",
       "      <td>608</td>\n",
       "      <td>41</td>\n",
       "      <td>1.000</td>\n",
       "      <td>83807.860</td>\n",
       "      <td>1</td>\n",
       "      <td>0</td>\n",
       "      <td>1</td>\n",
       "      <td>112542.580</td>\n",
       "      <td>0</td>\n",
       "      <td>0</td>\n",
       "      <td>1</td>\n",
       "      <td>0</td>\n",
       "    </tr>\n",
       "    <tr>\n",
       "      <th>2</th>\n",
       "      <td>502</td>\n",
       "      <td>42</td>\n",
       "      <td>8.000</td>\n",
       "      <td>159660.800</td>\n",
       "      <td>3</td>\n",
       "      <td>1</td>\n",
       "      <td>0</td>\n",
       "      <td>113931.570</td>\n",
       "      <td>1</td>\n",
       "      <td>0</td>\n",
       "      <td>0</td>\n",
       "      <td>0</td>\n",
       "    </tr>\n",
       "    <tr>\n",
       "      <th>3</th>\n",
       "      <td>699</td>\n",
       "      <td>39</td>\n",
       "      <td>1.000</td>\n",
       "      <td>0.000</td>\n",
       "      <td>2</td>\n",
       "      <td>0</td>\n",
       "      <td>0</td>\n",
       "      <td>93826.630</td>\n",
       "      <td>0</td>\n",
       "      <td>0</td>\n",
       "      <td>0</td>\n",
       "      <td>0</td>\n",
       "    </tr>\n",
       "    <tr>\n",
       "      <th>4</th>\n",
       "      <td>850</td>\n",
       "      <td>43</td>\n",
       "      <td>2.000</td>\n",
       "      <td>125510.820</td>\n",
       "      <td>1</td>\n",
       "      <td>1</td>\n",
       "      <td>1</td>\n",
       "      <td>79084.100</td>\n",
       "      <td>0</td>\n",
       "      <td>0</td>\n",
       "      <td>1</td>\n",
       "      <td>0</td>\n",
       "    </tr>\n",
       "  </tbody>\n",
       "</table>\n",
       "</div>"
      ],
      "text/plain": [
       "   CreditScore  Age  Tenure    Balance  NumOfProducts  HasCrCard  \\\n",
       "0          619   42   2.000      0.000              1          1   \n",
       "1          608   41   1.000  83807.860              1          0   \n",
       "2          502   42   8.000 159660.800              3          1   \n",
       "3          699   39   1.000      0.000              2          0   \n",
       "4          850   43   2.000 125510.820              1          1   \n",
       "\n",
       "   IsActiveMember  EstimatedSalary  Exited  Geography_Germany  \\\n",
       "0               1       101348.880       1                  0   \n",
       "1               1       112542.580       0                  0   \n",
       "2               0       113931.570       1                  0   \n",
       "3               0        93826.630       0                  0   \n",
       "4               1        79084.100       0                  0   \n",
       "\n",
       "   Geography_Spain  Gender_Male  \n",
       "0                0            0  \n",
       "1                1            0  \n",
       "2                0            0  \n",
       "3                0            0  \n",
       "4                1            0  "
      ]
     },
     "execution_count": 92,
     "metadata": {},
     "output_type": "execute_result"
    }
   ],
   "source": [
    "# Применим OHE для избежения дамми ловушки\n",
    "df_ohe=pd.get_dummies(df, drop_first=True)\n",
    "df_ohe.head()"
   ]
  },
  {
   "cell_type": "markdown",
   "metadata": {},
   "source": [
    "<div class=\"alert alert-success\">\n",
    "<b>👍 Успех:</b> Здорово, что ты не забыл параметр drop_first=True и избежал избыточности в данных\n",
    "</div>"
   ]
  },
  {
   "cell_type": "code",
   "execution_count": 93,
   "metadata": {},
   "outputs": [],
   "source": [
    "#Выделим численные признаки для анализа взаимосвязий\n",
    "numeric = ['CreditScore','Age','Balance','NumOfProducts','EstimatedSalary','Tenure']"
   ]
  },
  {
   "cell_type": "code",
   "execution_count": 94,
   "metadata": {},
   "outputs": [
    {
     "data": {
      "image/png": "[encoded data removed]",
      "text/plain": [
       "<Figure size 432x288 with 2 Axes>"
      ]
     },
     "metadata": {
      "needs_background": "light"
     },
     "output_type": "display_data"
    }
   ],
   "source": [
    "#Построим матрицу коррелияции признаков\n",
    "sns.heatmap(df_ohe.loc[:,numeric].corr(),\n",
    "            xticklabels=df_ohe.loc[:,numeric].corr().columns,\n",
    "            yticklabels=df_ohe.loc[:,numeric].corr().columns)\n",
    "plt.title('матрица корреляции параметров исходных данных')\n",
    "plt.show()"
   ]
  },
  {
   "cell_type": "markdown",
   "metadata": {},
   "source": [
    "Явной корреляции между признаками нет,дополнительно нужно посмотреть распределения"
   ]
  },
  {
   "cell_type": "code",
   "execution_count": 95,
   "metadata": {},
   "outputs": [
    {
     "data": {
      "image/png": "[encoded data removed]",
      "text/plain": [
       "<Figure size 864x648 with 36 Axes>"
      ]
     },
     "metadata": {
      "needs_background": "light"
     },
     "output_type": "display_data"
    }
   ],
   "source": [
    "pd.plotting.scatter_matrix(df_ohe.loc[:,numeric],figsize=(12,9))\n",
    "plt.show()"
   ]
  },
  {
   "cell_type": "markdown",
   "metadata": {},
   "source": [
    "По графику не обнаружено ложной корреляции между столбцами"
   ]
  },
  {
   "cell_type": "code",
   "execution_count": 96,
   "metadata": {},
   "outputs": [],
   "source": [
    "#Выделяем цель\n",
    "target = df_ohe['Exited']\n",
    "\n",
    "#Выделяем признаки\n",
    "features = df_ohe.drop('Exited', axis=1)\n",
    "\n",
    "# отделяем 30% данных для тестовой выборки\n",
    "features_train, features_test, target_train, target_test = train_test_split(\n",
    "    features, target, test_size=0.3, random_state=12345) \n",
    "\n",
    "# Разделяем тестовую выборку на тестовую и валидационную\n",
    "features_valid, features_test, target_valid, target_test = train_test_split(\n",
    "    features_test,target_test,test_size = 0.5,random_state = 12345)"
   ]
  },
  {
   "cell_type": "markdown",
   "metadata": {},
   "source": [
    "<div class=\"alert alert-success\">\n",
    "<b>👍 Успех:</b>  Ты правильно разделил выборки. Хорошо, что не забыл параметр random_state.\n",
    "</div>\n",
    "<div class=\"alert alert-info\">\n",
    "<b>👂 Совет:</b> \n",
    "Можно также использовать параметр stratify=y. Тогда наш датасет разделится так, чтобы и в трейне и в тесте пропорция ушедших\\оставшихся клиентов была одинаковой.</div>"
   ]
  },
  {
   "cell_type": "code",
   "execution_count": 97,
   "metadata": {},
   "outputs": [
    {
     "name": "stdout",
     "output_type": "stream",
     "text": [
      "(7000, 11)\n",
      "(1500, 11)\n"
     ]
    }
   ],
   "source": [
    "# Нормируем числовые данные\n",
    "scaler = StandardScaler()\n",
    "scaler.fit(features_train[numeric])\n",
    "features_train[numeric] = scaler.transform(features_train[numeric])\n",
    "features_test[numeric] = scaler.transform(features_test[numeric])\n",
    "\n",
    "print(features_train.shape)\n",
    "print(features_valid.shape)"
   ]
  },
  {
   "cell_type": "markdown",
   "metadata": {},
   "source": [
    "<div class=\"alert alert-success\">\n",
    "<b>👍 Успех:</b> Ты не забыл масштабирование и применил его правильно. Масштабирование обучено на трейне и применено на всем датасете. Только на числовых признаках.\n",
    "</div>"
   ]
  },
  {
   "cell_type": "code",
   "execution_count": 98,
   "metadata": {},
   "outputs": [
    {
     "data": {
      "text/plain": [
       "((7963, 11), (2037, 11))"
      ]
     },
     "execution_count": 98,
     "metadata": {},
     "output_type": "execute_result"
    }
   ],
   "source": [
    "# Посмотрим количество объектов отрицательного и положительно класса\n",
    "features[target == 0].shape, features[target == 1].shape"
   ]
  },
  {
   "cell_type": "markdown",
   "metadata": {},
   "source": [
    "Выявлен дисбаланс классов, нужно это изменить для повышения качества обучения модели.Но перед этим обучим модель без исправления дисбаланса, для того чтобы сравнить результаты. Значений в отрицательном классе больше положительного в 3,91 раза."
   ]
  },
  {
   "cell_type": "markdown",
   "metadata": {},
   "source": [
    "<div class=\"alert alert-info\"> <b>🎓 Комментарий студента:</b> Добавил в вывод про во сколько раз отрицательного класса больше чем положительного - это будет основанием для увеличения/уменьшения выборки</div>"
   ]
  },
  {
   "cell_type": "code",
   "execution_count": 99,
   "metadata": {},
   "outputs": [
    {
     "name": "stdout",
     "output_type": "stream",
     "text": [
      "Модель = GradientBoostingClassifier(random_state=12345) | Точность = 0.252 | Полнота = 0.756 | F1 = 0.378 | ROC_AUC=0.59\n"
     ]
    },
    {
     "data": {
      "image/png": "[encoded data removed]",
      "text/plain": [
       "<Figure size 432x288 with 1 Axes>"
      ]
     },
     "metadata": {
      "needs_background": "light"
     },
     "output_type": "display_data"
    }
   ],
   "source": [
    "#Попробуем модель \"GradientBoostingClassifier\"\n",
    "model = GradientBoostingClassifier(random_state=12345)\n",
    "model.fit(features_train, target_train)\n",
    "predicted_valid = model.predict(features_valid)\n",
    "\n",
    "print(\"Модель = {} | Точность = {:.3f} | Полнота = {:.3f} | F1 = {:.3f} | ROC_AUC={:.2f}\".format(model, precision_score(target_valid, predicted_valid), recall_score(target_valid, predicted_valid), f1_score(target_valid, predicted_valid),roc_auc_score(target_valid, predicted_valid)))\n",
    "fpr, tpr, thresholds = roc_curve(target_valid, predicted_valid)\n",
    "plt.figure()\n",
    "plt.plot(fpr, tpr)\n",
    "plt.xlim([0.0, 1.0])\n",
    "plt.ylim([0.0, 1.0])\n",
    "plt.xlabel('False Positive Rate')\n",
    "plt.ylabel('True Positive Rate')\n",
    "plt.title('ROC-кривая')\n",
    "plt.show() "
   ]
  },
  {
   "cell_type": "code",
   "execution_count": 100,
   "metadata": {},
   "outputs": [
    {
     "name": "stdout",
     "output_type": "stream",
     "text": [
      "Модель = LogisticRegression(class_weight='balanced', random_state=12345,\n",
      "                   solver='liblinear') | Точность = 0.205 | Полнота = 1.000 | F1 = 0.340 | ROC_AUC=0.50\n"
     ]
    },
    {
     "data": {
      "image/png": "[encoded data removed]",
      "text/plain": [
       "<Figure size 432x288 with 1 Axes>"
      ]
     },
     "metadata": {
      "needs_background": "light"
     },
     "output_type": "display_data"
    }
   ],
   "source": [
    "\n",
    "#Попробуем модель \"LogisticRegression\"\n",
    "model = LogisticRegression(random_state=12345, solver='liblinear', class_weight='balanced')\n",
    "model.fit(features_train, target_train)\n",
    "predicted_valid = model.predict(features_valid)\n",
    "\n",
    "\n",
    "print(\"Модель = {} | Точность = {:.3f} | Полнота = {:.3f} | F1 = {:.3f} | ROC_AUC={:.2f}\".format(model, precision_score(target_valid, predicted_valid), recall_score(target_valid, predicted_valid), f1_score(target_valid, predicted_valid),roc_auc_score(target_valid, predicted_valid)))\n",
    "fpr, tpr, thresholds = roc_curve(target_valid, predicted_valid)\n",
    "plt.figure()\n",
    "plt.plot(fpr, tpr)\n",
    "plt.xlim([0.0, 1.0])\n",
    "plt.ylim([0.0, 1.0])\n",
    "plt.xlabel('False Positive Rate')\n",
    "plt.ylabel('True Positive Rate')\n",
    "plt.title('ROC-кривая')\n",
    "plt.show() "
   ]
  },
  {
   "cell_type": "markdown",
   "metadata": {},
   "source": [
    "Показатели качества моделей низкие, ROC_AUC у моделей не отличается от того, если бы мы просто угадывали результат. F1 Тоже низкая, что говорит о том полнота и (или) точность на низком уровне. Нужно убрать дисбаланс и тогда метрики увеличатся"
   ]
  },
  {
   "cell_type": "markdown",
   "metadata": {},
   "source": [
    "## Борьба с дисбалансом"
   ]
  },
  {
   "cell_type": "code",
   "execution_count": 101,
   "metadata": {},
   "outputs": [],
   "source": [
    "# Сделаем функцию для бенчмаркинга по F1\n",
    "def best_model_bench(model, features, target):\n",
    "    model.fit(features, target)\n",
    "    predicted_valid=model.predict(features_valid)\n",
    "    best_model=None\n",
    "    best_f1_score=0\n",
    "    f1_score(target_valid, predicted_valid)\n",
    "    print(model)\n",
    "    print(\"F1:\", round(f1_score(target_valid, predicted_valid),3))\n",
    "    print(\"Полнота:\",round(recall_score(target_valid, predicted_valid),3))\n",
    "    print(\"точность:\",round(precision_score(target_valid, predicted_valid),3))\n",
    "    print('ROC_auc:', round(roc_auc_score(target_valid, predicted_valid),3))\n",
    "    "
   ]
  },
  {
   "cell_type": "markdown",
   "metadata": {},
   "source": [
    "<div class=\"alert alert-success\">\n",
    "<b>👍 Успех:</b> Отличная идея использовать функцию\n",
    "</div>"
   ]
  },
  {
   "cell_type": "markdown",
   "metadata": {},
   "source": [
    "Так как разница в классах ~4, то увеличим количество значений положительнго класса в 4 раза."
   ]
  },
  {
   "cell_type": "code",
   "execution_count": 102,
   "metadata": {},
   "outputs": [],
   "source": [
    "# Проведем увеличение выборки\n",
    "def upsample(features, target, repeat):\n",
    "    features_zeros = features[target == 0]\n",
    "    features_ones = features[target == 1]\n",
    "    target_zeros = target[target == 0]\n",
    "    target_ones = target[target == 1]\n",
    "\n",
    "    features_upsampled = pd.concat([features_zeros] + [features_ones] * repeat)\n",
    "    target_upsampled = pd.concat([target_zeros] + [target_ones] * repeat)\n",
    "    \n",
    "    features_upsampled, target_upsampled = shuffle(\n",
    "        features_upsampled, target_upsampled, random_state=12345)\n",
    "    \n",
    "    return features_upsampled, target_upsampled\n",
    "\n",
    "features_upsampled, target_upsampled = upsample(features_train, target_train, 4)\n"
   ]
  },
  {
   "cell_type": "markdown",
   "metadata": {},
   "source": [
    "<div class=\"alert alert-danger\">\n",
    "<b>😔 Необходимо исправить:</b> Обрати внимание на коэффициент. Почему у тебя он 10? Он должен быть подобран так, чтобы после применения функции классы стали одного размера.\n",
    "</div>"
   ]
  },
  {
   "cell_type": "markdown",
   "metadata": {},
   "source": [
    "<div class=\"alert alert-info\"> <b>🎓 Комментарий студента:</b> Изменил исходя из соотнешения отрицального положительного класса, выше написал про это</div>"
   ]
  },
  {
   "cell_type": "markdown",
   "metadata": {},
   "source": [
    "Аналогично исходя из вывода в параграфе про поиск дисбаланса уменьшим отрицательный класс в 3,91 раза"
   ]
  },
  {
   "cell_type": "code",
   "execution_count": 103,
   "metadata": {},
   "outputs": [],
   "source": [
    "#Проведем уменьшение выборки:\n",
    "def downsample(features, target, fraction):\n",
    "    features_zeros = features[target == 0]\n",
    "    features_ones = features[target == 1]\n",
    "    target_zeros = target[target == 0]\n",
    "    target_ones = target[target == 1]\n",
    "\n",
    "    features_downsampled = pd.concat(\n",
    "        [features_zeros.sample(frac=fraction, random_state=12345)] + [features_ones])\n",
    "    target_downsampled = pd.concat(\n",
    "        [target_zeros.sample(frac=fraction, random_state=12345)] + [target_ones])\n",
    "    \n",
    "    features_downsampled, target_downsampled = shuffle(\n",
    "        features_downsampled, target_downsampled, random_state=12345)\n",
    "    \n",
    "    return features_downsampled, target_downsampled\n",
    "\n",
    "features_downsampled, target_downsampled = downsample(features_train, target_train, 0.391)"
   ]
  },
  {
   "cell_type": "markdown",
   "metadata": {},
   "source": [
    "<div class=\"alert alert-danger\">\n",
    "<b>😔 Необходимо исправить:</b> Тут аналогично. Почему именно 0.1?\n",
    "</div>"
   ]
  },
  {
   "cell_type": "markdown",
   "metadata": {},
   "source": [
    "<div class=\"alert alert-info\"> <b>🎓 Комментарий студента:</b> Исправил </div>"
   ]
  },
  {
   "cell_type": "code",
   "execution_count": 104,
   "metadata": {},
   "outputs": [
    {
     "name": "stdout",
     "output_type": "stream",
     "text": [
      "Downsample\n",
      "LogisticRegression(random_state=12345, solver='liblinear')\n",
      "F1: 0.34\n",
      "Полнота: 1.0\n",
      "точность: 0.205\n",
      "ROC_auc: 0.501\n",
      "\n",
      "Upsample\n",
      "LogisticRegression(random_state=12345, solver='liblinear')\n",
      "F1: 0.34\n",
      "Полнота: 1.0\n",
      "точность: 0.205\n",
      "ROC_auc: 0.5\n",
      "\n",
      "Downsample\n",
      "GradientBoostingClassifier(random_state=12345)\n",
      "F1: 0.366\n",
      "Полнота: 0.684\n",
      "точность: 0.25\n",
      "ROC_auc: 0.578\n",
      "\n",
      "Upsample\n",
      "GradientBoostingClassifier(random_state=12345)\n",
      "F1: 0.379\n",
      "Полнота: 0.648\n",
      "точность: 0.267\n",
      "ROC_auc: 0.596\n"
     ]
    }
   ],
   "source": [
    "\n",
    "#Проверим по бенчмарку новые показатели\n",
    "print(\"Downsample\")\n",
    "model_logic_downsampled = LogisticRegression(random_state=12345,solver='liblinear')\n",
    "best_model_bench(model_logic_downsampled, features_downsampled, target_downsampled)\n",
    "print()\n",
    "print(\"Upsample\")\n",
    "model_logic_upsampled= LogisticRegression(random_state=12345,solver='liblinear')\n",
    "best_model_bench(model_logic_upsampled, features_upsampled, target_upsampled)\n",
    "print()\n",
    "print(\"Downsample\")\n",
    "model_gbc_downsampled = GradientBoostingClassifier(random_state=12345)\n",
    "best_model_bench(model_gbc_downsampled, features_downsampled, target_downsampled)\n",
    "print()\n",
    "print(\"Upsample\")\n",
    "model_gbc_upsamled = GradientBoostingClassifier(random_state=12345)\n",
    "best_model_bench(model_gbc_upsamled, features_upsampled, target_upsampled)"
   ]
  },
  {
   "cell_type": "markdown",
   "metadata": {},
   "source": [
    "<div class=\"alert alert-warning\">\n",
    "<b>🤔 Рекомендация:</b> Лучше не выводить все знаки в метриках, а ограничить точность\n",
    "</div>"
   ]
  },
  {
   "cell_type": "markdown",
   "metadata": {},
   "source": [
    "<div class=\"alert alert-info\"> <b>🎓 Комментарий студента:</b>Округлил до 3 знаков после запятой</div>"
   ]
  },
  {
   "cell_type": "markdown",
   "metadata": {},
   "source": [
    "Для модели линейной регресии лучше всего сделать уменьшение выборки, так как показатели f1 и roc_auc стали выше. Для модели GradientBoostingClassifier глобально не важно увеличивать или уменьшать выборку - показатели примерно равны. Перейдем к еще одному шагу на пути к улучшению модели - Изменению порога."
   ]
  },
  {
   "cell_type": "code",
   "execution_count": 105,
   "metadata": {},
   "outputs": [],
   "source": [
    "#Сделаем функцию нахождения порога и показателей качества модели\n",
    "def threshold_check(model,features,target):\n",
    "    model.fit(features, target)\n",
    "    probabilities_valid = model.predict_proba(features_valid)\n",
    "    probabilities_one_valid = probabilities_valid[:, 1]\n",
    "    best_model=None\n",
    "    best_f1=0\n",
    "    best_recall=0\n",
    "    best_precision=0\n",
    "    best_roc_auc=0\n",
    "    best_threshold=0\n",
    "    for threshold in np.arange(0, 0.90, 0.02):\n",
    "        predicted_valid = probabilities_one_valid > threshold\n",
    "        precision = precision_score(target_valid, predicted_valid)\n",
    "        recall = recall_score(target_valid, predicted_valid)\n",
    "        f1=f1_score(target_valid, predicted_valid)\n",
    "        roc_auc=roc_auc_score(target_valid, predicted_valid)\n",
    "        if f1>best_f1:\n",
    "            best_f1=f1\n",
    "            best_model=model\n",
    "            best_recall=recall\n",
    "            best_precision=precision\n",
    "            best_roc_auc=roc_auc\n",
    "            best_threshold=threshold\n",
    "    print(\"Модель = {} | Порог = {:.2f} | Точность = {:.3f} | Полнота = {:.3f} | F1 = {:.3f} | ROC_AUC={:.2f}\".format(model,\n",
    "        best_threshold, best_precision, best_recall, best_f1,best_roc_auc))\n",
    "    fpr, tpr, thresholds = roc_curve(target_valid, probabilities_one_valid)\n",
    "    print()\n",
    "    plt.figure()\n",
    "    plt.plot(fpr, tpr)\n",
    "    plt.xlim([0.0, 1.0])\n",
    "    plt.ylim([0.0, 1.0])\n",
    "    plt.xlabel('False Positive Rate')\n",
    "    plt.ylabel('True Positive Rate')\n",
    "    plt.title(print('ROC-кривая по',best_model))\n",
    "    plt.show() \n"
   ]
  },
  {
   "cell_type": "code",
   "execution_count": 106,
   "metadata": {},
   "outputs": [
    {
     "name": "stdout",
     "output_type": "stream",
     "text": [
      "Модель = LogisticRegression(random_state=12345, solver='liblinear') | Порог = 0.38 | Точность = 0.205 | Полнота = 1.000 | F1 = 0.340 | ROC_AUC=0.50\n",
      "\n",
      "ROC-кривая по LogisticRegression(random_state=12345, solver='liblinear')\n"
     ]
    },
    {
     "data": {
      "image/png": "[encoded data removed]",
      "text/plain": [
       "<Figure size 432x288 with 1 Axes>"
      ]
     },
     "metadata": {
      "needs_background": "light"
     },
     "output_type": "display_data"
    }
   ],
   "source": [
    "threshold_check(model_logic_downsampled, features_downsampled, target_downsampled)"
   ]
  },
  {
   "cell_type": "code",
   "execution_count": 107,
   "metadata": {},
   "outputs": [
    {
     "name": "stdout",
     "output_type": "stream",
     "text": [
      "Модель = GradientBoostingClassifier(random_state=12345) | Порог = 0.62 | Точность = 0.288 | Полнота = 0.593 | F1 = 0.387 | ROC_AUC=0.61\n",
      "\n",
      "ROC-кривая по GradientBoostingClassifier(random_state=12345)\n"
     ]
    },
    {
     "data": {
      "image/png": "[encoded data removed]",
      "text/plain": [
       "<Figure size 432x288 with 1 Axes>"
      ]
     },
     "metadata": {
      "needs_background": "light"
     },
     "output_type": "display_data"
    }
   ],
   "source": [
    "threshold_check(model_gbc_upsamled, features_upsampled, target_upsampled)"
   ]
  },
  {
   "cell_type": "markdown",
   "metadata": {},
   "source": [
    "После  изменения порога качество модели по показателям увелиилось, Перейдем к нахождению лучших параметров и оценки f1 для этих парамтров."
   ]
  },
  {
   "cell_type": "markdown",
   "metadata": {},
   "source": [
    "## Тестирование модели"
   ]
  },
  {
   "cell_type": "markdown",
   "metadata": {},
   "source": [
    "Посчитаем коэффициент детерминации для моделей на тестовых данных"
   ]
  },
  {
   "cell_type": "code",
   "execution_count": 108,
   "metadata": {},
   "outputs": [],
   "source": [
    "#Функция для установки порога\n",
    "def proby (model,threshold): \n",
    "    threshold=threshold\n",
    "    prob=[]\n",
    "    probabilities_valid = model.predict_proba(features_valid)\n",
    "    probabilities_one_valid = probabilities_valid[:, 1]\n",
    "    for probab in probabilities_one_valid:\n",
    "        if probab > threshold:\n",
    "            prob.append(1)\n",
    "        else:\n",
    "            prob.append(0)\n",
    "    return prob"
   ]
  },
  {
   "cell_type": "code",
   "execution_count": 109,
   "metadata": {},
   "outputs": [],
   "source": [
    "#Сделаем функцию анализа метрик\n",
    "\n",
    "def test_r2_f1(model,features,target):\n",
    "    model.fit(features, target)\n",
    "    predicted_test = model.predict(features)\n",
    "    movedts_valid=proby(model, 0.74)\n",
    "    print(\"R2 =\",r2_score(target,predicted_test))\n",
    "    print(\"F1 =\",f1_score(target, predicted_test))\n",
    "    print(\"ROC =\",f1_score(target, predicted_test))"
   ]
  },
  {
   "cell_type": "code",
   "execution_count": 110,
   "metadata": {},
   "outputs": [],
   "source": [
    "#Объединяем выборки\n",
    "features_bigtrain=pd.concat([features_train, features_valid])\n",
    "target_bigtrain=pd.concat([target_train, target_valid])\n"
   ]
  },
  {
   "cell_type": "code",
   "execution_count": 111,
   "metadata": {},
   "outputs": [
    {
     "name": "stdout",
     "output_type": "stream",
     "text": [
      "R2 = 0.21284650974691977\n",
      "F1 = 0.6054844606946984\n",
      "ROC = 0.6054844606946984\n"
     ]
    }
   ],
   "source": [
    "#Считаем метрики для градиент бустинг \n",
    "model=GradientBoostingClassifier(random_state=12345)\n",
    "test_r2_f1(model,features_bigtrain,target_bigtrain)"
   ]
  },
  {
   "cell_type": "markdown",
   "metadata": {},
   "source": [
    "<div class=\"alert alert-success\">\n",
    "<b>👍 Успех:</b> f1 >0.6\n",
    "</div>"
   ]
  },
  {
   "cell_type": "code",
   "execution_count": 112,
   "metadata": {},
   "outputs": [
    {
     "name": "stdout",
     "output_type": "stream",
     "text": [
      "R2 = -0.2562356906541281\n",
      "F1 = 0.07019438444924407\n",
      "ROC = 0.07019438444924407\n"
     ]
    }
   ],
   "source": [
    "#Считаем метрики для логиеской регрессии \n",
    "model=LogisticRegression(random_state=12345)\n",
    "test_r2_f1(model,features_bigtrain,target_bigtrain)"
   ]
  },
  {
   "cell_type": "markdown",
   "metadata": {},
   "source": [
    "# Вывод\n",
    "Мы изучили данные, выявили пропущенные значения, заменили их на случайные в рамках мимума и максимума по признаку. Далее провели анализ явной взаимосвзяи между данными, оказалось, что ои не сильно коррелируют. В обучении использовали две модели, и несколько спобов борьбы против дисбаланса классов. По итогу модель \"GradientBoostingClassifier\" проходит по порогу F1 и коэффициент детерминации выше 0 у этой модели."
   ]
  },
  {
   "cell_type": "markdown",
   "metadata": {},
   "source": [
    "<div class=\"alert alert-info\">\n",
    "<b>Общее впечатление:</b> Классная работа. Ты хорошо постарался! 🚀🚀\n",
    "Почти пункты задания выполнены правильно. Работа отлично оформлена. Написано много хороших выводов.\n",
    "Обрати внимание на коэффициенты при увеличении и уменьшении выборок. После того,  как ты их подправишь, я буду готова принять работу. Буду рада твоим вопросам\n",
    "<div>"
   ]
  },
  {
   "cell_type": "markdown",
   "metadata": {},
   "source": [
    "<div class=\"alert alert-info\"> <b>🎓 Комментарий студента:</b> Спасибо за ревью! Исправил недостатки и учел предложеня!</div>"
   ]
  },
  {
   "cell_type": "markdown",
   "metadata": {},
   "source": [
    "## Чек-лист готовности проекта"
   ]
  },
  {
   "cell_type": "markdown",
   "metadata": {},
   "source": [
    "Поставьте 'x' в выполненных пунктах. Далее нажмите Shift+Enter."
   ]
  },
  {
   "cell_type": "markdown",
   "metadata": {},
   "source": [
    "- [x]  Jupyter Notebook открыт\n",
    "- [x]  Весь код выполняется без ошибок\n",
    "- [x]  Ячейки с кодом расположены в порядке исполнения\n",
    "- [x]  Выполнен шаг 1: данные подготовлены\n",
    "- [x]  Выполнен шаг 2: задача исследована\n",
    "    - [x]  Исследован баланс классов\n",
    "    - [x]  Изучены модели без учёта дисбаланса\n",
    "    - [x]  Написаны выводы по результатам исследования\n",
    "- [x]  Выполнен шаг 3: учтён дисбаланс\n",
    "    - [x]  Применено несколько способов борьбы с дисбалансом\n",
    "    - [x]  Написаны выводы по результатам исследования\n",
    "- [x]  Выполнен шаг 4: проведено тестирование\n",
    "- [x]  Удалось достичь *F1*-меры не менее 0.59\n",
    "- [x]  Исследована метрика *AUC-ROC*"
   ]
  },
  {
   "cell_type": "code",
   "execution_count": null,
   "metadata": {},
   "outputs": [],
   "source": []
  }
 ],
 "metadata": {
  "ExecuteTimeLog": [
   {
    "duration": 164,
    "start_time": "2022-05-18T17:01:27.945Z"
   },
   {
    "duration": 3255,
    "start_time": "2022-05-18T17:01:30.771Z"
   },
   {
    "duration": 263,
    "start_time": "2022-05-18T17:01:34.029Z"
   },
   {
    "duration": 61,
    "start_time": "2022-05-18T17:01:34.302Z"
   },
   {
    "duration": 41,
    "start_time": "2022-05-18T17:01:34.365Z"
   },
   {
    "duration": 64,
    "start_time": "2022-05-18T17:01:34.409Z"
   },
   {
    "duration": 45,
    "start_time": "2022-05-18T17:01:34.475Z"
   },
   {
    "duration": 36,
    "start_time": "2022-05-18T17:01:34.522Z"
   },
   {
    "duration": 13,
    "start_time": "2022-05-18T17:01:34.561Z"
   },
   {
    "duration": 83,
    "start_time": "2022-05-18T17:01:34.576Z"
   },
   {
    "duration": 19,
    "start_time": "2022-05-18T17:01:34.661Z"
   },
   {
    "duration": 955,
    "start_time": "2022-05-18T17:01:34.682Z"
   },
   {
    "duration": 16,
    "start_time": "2022-05-18T17:01:35.639Z"
   },
   {
    "duration": 83,
    "start_time": "2022-05-18T17:01:35.656Z"
   },
   {
    "duration": 3,
    "start_time": "2022-05-18T17:01:35.741Z"
   },
   {
    "duration": 423,
    "start_time": "2022-05-18T17:01:35.746Z"
   },
   {
    "duration": 4480,
    "start_time": "2022-05-18T17:01:36.171Z"
   },
   {
    "duration": 20,
    "start_time": "2022-05-18T17:01:40.653Z"
   },
   {
    "duration": 236,
    "start_time": "2022-05-18T17:01:40.675Z"
   },
   {
    "duration": 33,
    "start_time": "2022-05-18T17:01:40.920Z"
   },
   {
    "duration": 27148,
    "start_time": "2022-05-18T17:01:40.956Z"
   },
   {
    "duration": 2514,
    "start_time": "2022-05-18T17:02:08.106Z"
   },
   {
    "duration": 152,
    "start_time": "2022-05-18T17:02:10.622Z"
   },
   {
    "duration": 0,
    "start_time": "2022-05-18T17:02:10.776Z"
   },
   {
    "duration": 0,
    "start_time": "2022-05-18T17:02:10.777Z"
   },
   {
    "duration": 0,
    "start_time": "2022-05-18T17:02:10.779Z"
   },
   {
    "duration": 0,
    "start_time": "2022-05-18T17:02:10.780Z"
   },
   {
    "duration": 0,
    "start_time": "2022-05-18T17:02:10.789Z"
   },
   {
    "duration": 158,
    "start_time": "2022-05-18T17:02:56.713Z"
   },
   {
    "duration": 87,
    "start_time": "2022-05-18T17:03:21.586Z"
   },
   {
    "duration": 72,
    "start_time": "2022-05-18T17:03:29.998Z"
   },
   {
    "duration": 12,
    "start_time": "2022-05-18T17:04:18.082Z"
   },
   {
    "duration": 13,
    "start_time": "2022-05-18T17:04:51.863Z"
   },
   {
    "duration": 1263,
    "start_time": "2022-05-18T17:05:02.289Z"
   },
   {
    "duration": 12,
    "start_time": "2022-05-18T17:05:05.424Z"
   },
   {
    "duration": 42,
    "start_time": "2022-05-18T17:06:51.357Z"
   },
   {
    "duration": 6,
    "start_time": "2022-05-18T18:29:00.516Z"
   },
   {
    "duration": 21,
    "start_time": "2022-05-18T18:29:08.317Z"
   },
   {
    "duration": 13,
    "start_time": "2022-05-18T18:29:18.912Z"
   },
   {
    "duration": 13,
    "start_time": "2022-05-18T18:30:30.972Z"
   },
   {
    "duration": 6,
    "start_time": "2022-05-18T18:36:57.213Z"
   },
   {
    "duration": 118,
    "start_time": "2022-05-18T18:36:58.815Z"
   },
   {
    "duration": 2678,
    "start_time": "2022-05-18T18:38:23.957Z"
   },
   {
    "duration": 5,
    "start_time": "2022-05-18T18:38:45.029Z"
   },
   {
    "duration": 2208,
    "start_time": "2022-05-18T18:38:47.134Z"
   },
   {
    "duration": 2263,
    "start_time": "2022-05-18T18:38:57.813Z"
   },
   {
    "duration": 188,
    "start_time": "2022-05-18T18:39:29.429Z"
   },
   {
    "duration": 2026,
    "start_time": "2022-05-18T18:40:07.944Z"
   },
   {
    "duration": 2014,
    "start_time": "2022-05-18T18:49:35.448Z"
   },
   {
    "duration": 12,
    "start_time": "2022-05-18T18:53:36.941Z"
   },
   {
    "duration": 25,
    "start_time": "2022-05-18T18:55:19.255Z"
   },
   {
    "duration": 28,
    "start_time": "2022-05-18T18:55:23.343Z"
   },
   {
    "duration": 135,
    "start_time": "2022-05-18T18:55:27.957Z"
   },
   {
    "duration": 322,
    "start_time": "2022-05-18T18:55:36.083Z"
   },
   {
    "duration": 946,
    "start_time": "2022-05-18T18:56:01.754Z"
   },
   {
    "duration": 200,
    "start_time": "2022-05-18T18:56:04.870Z"
   },
   {
    "duration": 2147,
    "start_time": "2022-05-18T19:10:13.144Z"
   },
   {
    "duration": 608,
    "start_time": "2022-05-18T19:10:43.301Z"
   },
   {
    "duration": 651,
    "start_time": "2022-05-18T19:10:56.761Z"
   },
   {
    "duration": 51,
    "start_time": "2022-05-18T19:11:09.237Z"
   },
   {
    "duration": 582,
    "start_time": "2022-05-18T19:11:19.444Z"
   },
   {
    "duration": 2269,
    "start_time": "2022-05-18T19:11:29.663Z"
   },
   {
    "duration": 2312,
    "start_time": "2022-05-18T19:12:00.266Z"
   },
   {
    "duration": 2113,
    "start_time": "2022-05-18T19:12:33.658Z"
   },
   {
    "duration": 1977,
    "start_time": "2022-05-18T19:14:55.019Z"
   },
   {
    "duration": 459,
    "start_time": "2022-05-18T19:25:22.138Z"
   },
   {
    "duration": 2568,
    "start_time": "2022-05-18T19:29:27.611Z"
   },
   {
    "duration": 2540,
    "start_time": "2022-05-18T19:29:43.544Z"
   },
   {
    "duration": 12,
    "start_time": "2022-05-18T19:36:58.572Z"
   },
   {
    "duration": 1168,
    "start_time": "2022-05-18T19:37:01.763Z"
   },
   {
    "duration": 2303,
    "start_time": "2022-05-18T19:37:39.693Z"
   },
   {
    "duration": 2452,
    "start_time": "2022-05-19T17:35:32.668Z"
   },
   {
    "duration": 151,
    "start_time": "2022-05-19T17:36:42.634Z"
   },
   {
    "duration": 11,
    "start_time": "2022-05-19T17:36:55.277Z"
   },
   {
    "duration": 11,
    "start_time": "2022-05-19T17:37:19.991Z"
   },
   {
    "duration": 6,
    "start_time": "2022-05-19T17:37:28.635Z"
   },
   {
    "duration": 246,
    "start_time": "2022-05-19T17:37:28.643Z"
   },
   {
    "duration": 42,
    "start_time": "2022-05-19T17:37:28.891Z"
   },
   {
    "duration": 5,
    "start_time": "2022-05-19T17:37:28.935Z"
   },
   {
    "duration": 219,
    "start_time": "2022-05-19T17:37:28.943Z"
   },
   {
    "duration": 6,
    "start_time": "2022-05-19T17:37:29.166Z"
   },
   {
    "duration": 23,
    "start_time": "2022-05-19T17:37:29.173Z"
   },
   {
    "duration": 9,
    "start_time": "2022-05-19T17:37:29.198Z"
   },
   {
    "duration": 24,
    "start_time": "2022-05-19T17:37:29.208Z"
   },
   {
    "duration": 22,
    "start_time": "2022-05-19T17:37:29.234Z"
   },
   {
    "duration": 636,
    "start_time": "2022-05-19T17:37:29.257Z"
   },
   {
    "duration": 13,
    "start_time": "2022-05-19T17:37:29.896Z"
   },
   {
    "duration": 32,
    "start_time": "2022-05-19T17:37:29.911Z"
   },
   {
    "duration": 3,
    "start_time": "2022-05-19T17:37:29.945Z"
   },
   {
    "duration": 327,
    "start_time": "2022-05-19T17:37:29.950Z"
   },
   {
    "duration": 4653,
    "start_time": "2022-05-19T17:37:30.279Z"
   },
   {
    "duration": 12,
    "start_time": "2022-05-19T17:37:34.934Z"
   },
   {
    "duration": 44,
    "start_time": "2022-05-19T17:37:34.956Z"
   },
   {
    "duration": 6,
    "start_time": "2022-05-19T17:37:35.002Z"
   },
   {
    "duration": 961,
    "start_time": "2022-05-19T17:37:35.009Z"
   },
   {
    "duration": 143,
    "start_time": "2022-05-19T17:37:35.975Z"
   },
   {
    "duration": 57,
    "start_time": "2022-05-19T17:37:36.120Z"
   },
   {
    "duration": 301,
    "start_time": "2022-05-19T17:37:36.182Z"
   },
   {
    "duration": 4,
    "start_time": "2022-05-19T17:37:36.485Z"
   },
   {
    "duration": 860,
    "start_time": "2022-05-19T17:37:36.491Z"
   },
   {
    "duration": 2692,
    "start_time": "2022-05-19T17:37:37.355Z"
   },
   {
    "duration": 28,
    "start_time": "2022-05-19T17:37:40.049Z"
   },
   {
    "duration": 29,
    "start_time": "2022-05-19T17:38:14.419Z"
   },
   {
    "duration": 1049,
    "start_time": "2022-05-19T17:40:21.942Z"
   },
   {
    "duration": 4,
    "start_time": "2022-05-19T18:02:45.215Z"
   },
   {
    "duration": 5171,
    "start_time": "2022-05-19T18:02:45.221Z"
   },
   {
    "duration": 2330,
    "start_time": "2022-05-19T18:02:50.394Z"
   },
   {
    "duration": 25,
    "start_time": "2022-05-19T18:02:52.726Z"
   },
   {
    "duration": 0,
    "start_time": "2022-05-19T18:02:52.753Z"
   },
   {
    "duration": 0,
    "start_time": "2022-05-19T18:02:52.755Z"
   },
   {
    "duration": 0,
    "start_time": "2022-05-19T18:02:52.757Z"
   },
   {
    "duration": 14,
    "start_time": "2022-05-19T18:03:26.082Z"
   },
   {
    "duration": 69,
    "start_time": "2022-05-19T18:06:07.389Z"
   },
   {
    "duration": 2230,
    "start_time": "2022-05-19T18:06:16.588Z"
   },
   {
    "duration": 2264,
    "start_time": "2022-05-19T18:06:35.324Z"
   },
   {
    "duration": 8,
    "start_time": "2022-05-19T18:06:49.466Z"
   },
   {
    "duration": 19,
    "start_time": "2022-05-19T18:06:51.563Z"
   },
   {
    "duration": 1440,
    "start_time": "2022-05-19T18:07:24.466Z"
   },
   {
    "duration": 1288,
    "start_time": "2022-05-19T18:08:18.007Z"
   },
   {
    "duration": 4,
    "start_time": "2022-05-19T18:08:22.690Z"
   },
   {
    "duration": 1290,
    "start_time": "2022-05-19T18:08:25.198Z"
   },
   {
    "duration": 8,
    "start_time": "2022-05-19T18:13:27.601Z"
   },
   {
    "duration": 1018,
    "start_time": "2022-05-19T18:13:40.615Z"
   },
   {
    "duration": 2554,
    "start_time": "2022-05-19T18:16:37.917Z"
   },
   {
    "duration": 817,
    "start_time": "2022-05-19T18:17:54.152Z"
   },
   {
    "duration": 3281,
    "start_time": "2022-05-19T18:18:06.496Z"
   },
   {
    "duration": 4101,
    "start_time": "2022-05-19T18:20:52.465Z"
   },
   {
    "duration": 184,
    "start_time": "2022-05-19T18:21:14.074Z"
   },
   {
    "duration": 2386,
    "start_time": "2022-05-19T18:21:19.517Z"
   },
   {
    "duration": 5,
    "start_time": "2022-05-19T18:21:32.903Z"
   },
   {
    "duration": 1537,
    "start_time": "2022-05-19T18:21:36.712Z"
   },
   {
    "duration": 3750,
    "start_time": "2022-05-19T18:22:36.876Z"
   },
   {
    "duration": 33029,
    "start_time": "2022-05-19T18:23:21.836Z"
   },
   {
    "duration": 45,
    "start_time": "2022-05-19T18:25:58.739Z"
   },
   {
    "duration": 18,
    "start_time": "2022-05-19T18:26:00.295Z"
   },
   {
    "duration": 19,
    "start_time": "2022-05-19T18:26:52.787Z"
   },
   {
    "duration": 28,
    "start_time": "2022-05-19T18:27:08.582Z"
   },
   {
    "duration": 239,
    "start_time": "2022-05-19T18:27:29.709Z"
   },
   {
    "duration": 3030,
    "start_time": "2022-05-19T18:28:02.993Z"
   },
   {
    "duration": 1026,
    "start_time": "2022-05-19T18:28:48.295Z"
   },
   {
    "duration": 968,
    "start_time": "2022-05-19T18:29:03.708Z"
   },
   {
    "duration": 6,
    "start_time": "2022-05-19T18:31:40.658Z"
   },
   {
    "duration": 53,
    "start_time": "2022-05-19T18:31:40.666Z"
   },
   {
    "duration": 40,
    "start_time": "2022-05-19T18:31:40.721Z"
   },
   {
    "duration": 5,
    "start_time": "2022-05-19T18:31:40.763Z"
   },
   {
    "duration": 26,
    "start_time": "2022-05-19T18:31:40.771Z"
   },
   {
    "duration": 8,
    "start_time": "2022-05-19T18:31:40.798Z"
   },
   {
    "duration": 51,
    "start_time": "2022-05-19T18:31:40.807Z"
   },
   {
    "duration": 9,
    "start_time": "2022-05-19T18:31:40.860Z"
   },
   {
    "duration": 22,
    "start_time": "2022-05-19T18:31:40.870Z"
   },
   {
    "duration": 10,
    "start_time": "2022-05-19T18:31:40.894Z"
   },
   {
    "duration": 580,
    "start_time": "2022-05-19T18:31:40.906Z"
   },
   {
    "duration": 15,
    "start_time": "2022-05-19T18:31:41.489Z"
   },
   {
    "duration": 19,
    "start_time": "2022-05-19T18:31:41.505Z"
   },
   {
    "duration": 16,
    "start_time": "2022-05-19T18:31:41.541Z"
   },
   {
    "duration": 232,
    "start_time": "2022-05-19T18:31:41.559Z"
   },
   {
    "duration": 2935,
    "start_time": "2022-05-19T18:31:41.793Z"
   },
   {
    "duration": 28,
    "start_time": "2022-05-19T18:31:44.730Z"
   },
   {
    "duration": 30,
    "start_time": "2022-05-19T18:31:44.760Z"
   },
   {
    "duration": 8,
    "start_time": "2022-05-19T18:31:44.792Z"
   },
   {
    "duration": 943,
    "start_time": "2022-05-19T18:31:44.802Z"
   },
   {
    "duration": 28307,
    "start_time": "2022-05-19T18:31:45.747Z"
   },
   {
    "duration": 41,
    "start_time": "2022-05-19T18:32:14.061Z"
   },
   {
    "duration": 920,
    "start_time": "2022-05-19T18:32:14.104Z"
   },
   {
    "duration": 160,
    "start_time": "2022-05-19T18:32:15.026Z"
   },
   {
    "duration": 61,
    "start_time": "2022-05-19T18:32:15.188Z"
   },
   {
    "duration": 258,
    "start_time": "2022-05-19T18:32:15.252Z"
   },
   {
    "duration": 4,
    "start_time": "2022-05-19T18:32:15.512Z"
   },
   {
    "duration": 2880,
    "start_time": "2022-05-19T18:32:15.517Z"
   },
   {
    "duration": 3034,
    "start_time": "2022-05-19T18:32:18.399Z"
   },
   {
    "duration": 112,
    "start_time": "2022-05-19T18:32:21.440Z"
   },
   {
    "duration": 2160,
    "start_time": "2022-05-19T18:32:21.555Z"
   },
   {
    "duration": 5,
    "start_time": "2022-05-19T18:32:23.716Z"
   },
   {
    "duration": 1267,
    "start_time": "2022-05-19T18:32:23.723Z"
   },
   {
    "duration": 1345,
    "start_time": "2022-05-19T18:32:38.912Z"
   },
   {
    "duration": 1406,
    "start_time": "2022-05-19T18:32:48.586Z"
   },
   {
    "duration": 968,
    "start_time": "2022-05-19T18:34:19.602Z"
   },
   {
    "duration": 993,
    "start_time": "2022-05-19T18:34:25.997Z"
   },
   {
    "duration": 2235,
    "start_time": "2022-05-19T18:37:09.908Z"
   },
   {
    "duration": 22,
    "start_time": "2022-05-19T18:39:20.147Z"
   },
   {
    "duration": 28610,
    "start_time": "2022-05-19T18:40:24.869Z"
   },
   {
    "duration": 9,
    "start_time": "2022-05-19T18:46:00.009Z"
   },
   {
    "duration": 50,
    "start_time": "2022-05-19T18:46:03.477Z"
   },
   {
    "duration": 16,
    "start_time": "2022-05-19T18:46:43.248Z"
   },
   {
    "duration": 186,
    "start_time": "2022-05-19T18:47:18.103Z"
   },
   {
    "duration": 346,
    "start_time": "2022-05-19T18:48:25.924Z"
   },
   {
    "duration": 437,
    "start_time": "2022-05-19T18:48:46.298Z"
   },
   {
    "duration": 3081,
    "start_time": "2022-05-19T18:51:26.273Z"
   },
   {
    "duration": 3115,
    "start_time": "2022-05-19T18:51:46.428Z"
   },
   {
    "duration": 10,
    "start_time": "2022-05-19T18:52:08.980Z"
   },
   {
    "duration": 715,
    "start_time": "2022-05-19T18:52:10.751Z"
   },
   {
    "duration": 2889,
    "start_time": "2022-05-19T18:52:13.457Z"
   },
   {
    "duration": 7,
    "start_time": "2022-05-19T18:57:51.428Z"
   },
   {
    "duration": 395,
    "start_time": "2022-05-19T18:57:53.386Z"
   },
   {
    "duration": 356,
    "start_time": "2022-05-19T18:58:06.502Z"
   },
   {
    "duration": 368,
    "start_time": "2022-05-19T18:58:12.199Z"
   },
   {
    "duration": 7,
    "start_time": "2022-05-19T18:58:20.842Z"
   },
   {
    "duration": 405,
    "start_time": "2022-05-19T18:58:23.283Z"
   },
   {
    "duration": 212,
    "start_time": "2022-05-19T18:58:43.790Z"
   },
   {
    "duration": 6,
    "start_time": "2022-05-19T18:59:44.350Z"
   },
   {
    "duration": 431,
    "start_time": "2022-05-19T18:59:46.242Z"
   },
   {
    "duration": 244,
    "start_time": "2022-05-19T18:59:56.125Z"
   },
   {
    "duration": 5,
    "start_time": "2022-05-19T19:00:22.717Z"
   },
   {
    "duration": 288,
    "start_time": "2022-05-19T19:00:24.313Z"
   },
   {
    "duration": 174,
    "start_time": "2022-05-19T19:00:28.347Z"
   },
   {
    "duration": 5,
    "start_time": "2022-05-19T19:01:09.982Z"
   },
   {
    "duration": 297,
    "start_time": "2022-05-19T19:01:11.413Z"
   },
   {
    "duration": 196,
    "start_time": "2022-05-19T19:01:13.652Z"
   },
   {
    "duration": 6,
    "start_time": "2022-05-19T19:01:25.986Z"
   },
   {
    "duration": 527,
    "start_time": "2022-05-19T19:01:27.171Z"
   },
   {
    "duration": 380,
    "start_time": "2022-05-19T19:01:32.283Z"
   },
   {
    "duration": 18,
    "start_time": "2022-05-19T19:02:26.897Z"
   },
   {
    "duration": 6,
    "start_time": "2022-05-19T19:02:30.111Z"
   },
   {
    "duration": 2559,
    "start_time": "2022-05-19T19:02:31.903Z"
   },
   {
    "duration": 15,
    "start_time": "2022-05-19T19:04:00.473Z"
   },
   {
    "duration": 17,
    "start_time": "2022-05-19T19:04:02.110Z"
   },
   {
    "duration": 2694,
    "start_time": "2022-05-19T19:04:03.280Z"
   },
   {
    "duration": 5,
    "start_time": "2022-05-19T19:07:32.601Z"
   },
   {
    "duration": 591,
    "start_time": "2022-05-19T19:07:34.825Z"
   },
   {
    "duration": 2224,
    "start_time": "2022-05-19T19:07:38.475Z"
   },
   {
    "duration": 5,
    "start_time": "2022-05-19T19:08:35.182Z"
   },
   {
    "duration": 483,
    "start_time": "2022-05-19T19:08:38.994Z"
   },
   {
    "duration": 2341,
    "start_time": "2022-05-19T19:08:41.447Z"
   },
   {
    "duration": 5,
    "start_time": "2022-05-19T19:10:01.356Z"
   },
   {
    "duration": 564,
    "start_time": "2022-05-19T19:10:03.052Z"
   },
   {
    "duration": 2301,
    "start_time": "2022-05-19T19:10:06.369Z"
   },
   {
    "duration": 17,
    "start_time": "2022-05-19T19:12:12.849Z"
   },
   {
    "duration": 17,
    "start_time": "2022-05-19T19:12:14.579Z"
   },
   {
    "duration": 507,
    "start_time": "2022-05-19T19:12:26.329Z"
   },
   {
    "duration": 1602,
    "start_time": "2022-05-19T19:12:29.602Z"
   },
   {
    "duration": 29,
    "start_time": "2022-05-19T19:12:46.408Z"
   },
   {
    "duration": 14,
    "start_time": "2022-05-19T19:12:47.882Z"
   },
   {
    "duration": 4301,
    "start_time": "2022-05-19T19:12:53.671Z"
   },
   {
    "duration": 18,
    "start_time": "2022-05-19T19:13:07.147Z"
   },
   {
    "duration": 4228,
    "start_time": "2022-05-19T19:13:09.579Z"
   },
   {
    "duration": 5,
    "start_time": "2022-05-19T19:13:20.681Z"
   },
   {
    "duration": 497,
    "start_time": "2022-05-19T19:13:22.976Z"
   },
   {
    "duration": 3827,
    "start_time": "2022-05-19T19:13:25.513Z"
   },
   {
    "duration": 22,
    "start_time": "2022-05-19T19:13:51.252Z"
   },
   {
    "duration": 11,
    "start_time": "2022-05-19T19:13:52.794Z"
   },
   {
    "duration": 4219,
    "start_time": "2022-05-19T19:13:55.426Z"
   },
   {
    "duration": 20,
    "start_time": "2022-05-19T19:14:07.353Z"
   },
   {
    "duration": 3063,
    "start_time": "2022-05-19T19:14:09.006Z"
   },
   {
    "duration": 14,
    "start_time": "2022-05-19T19:14:21.812Z"
   },
   {
    "duration": 2665,
    "start_time": "2022-05-19T19:14:24.762Z"
   },
   {
    "duration": 12,
    "start_time": "2022-05-19T19:14:34.766Z"
   },
   {
    "duration": 2045,
    "start_time": "2022-05-19T19:14:37.390Z"
   },
   {
    "duration": 13,
    "start_time": "2022-05-19T19:14:47.028Z"
   },
   {
    "duration": 1764,
    "start_time": "2022-05-19T19:14:49.149Z"
   },
   {
    "duration": 12,
    "start_time": "2022-05-19T19:15:00.457Z"
   },
   {
    "duration": 1964,
    "start_time": "2022-05-19T19:15:03.056Z"
   },
   {
    "duration": 13,
    "start_time": "2022-05-19T19:15:20.373Z"
   },
   {
    "duration": 2148,
    "start_time": "2022-05-19T19:15:21.985Z"
   },
   {
    "duration": 12,
    "start_time": "2022-05-19T19:15:28.851Z"
   },
   {
    "duration": 2342,
    "start_time": "2022-05-19T19:15:30.269Z"
   },
   {
    "duration": 14,
    "start_time": "2022-05-19T19:15:36.978Z"
   },
   {
    "duration": 2086,
    "start_time": "2022-05-19T19:15:39.100Z"
   },
   {
    "duration": 12,
    "start_time": "2022-05-19T19:15:48.708Z"
   },
   {
    "duration": 2178,
    "start_time": "2022-05-19T19:15:50.153Z"
   },
   {
    "duration": 12,
    "start_time": "2022-05-19T19:15:58.066Z"
   },
   {
    "duration": 2078,
    "start_time": "2022-05-19T19:16:02.651Z"
   },
   {
    "duration": 15,
    "start_time": "2022-05-19T19:16:09.958Z"
   },
   {
    "duration": 2101,
    "start_time": "2022-05-19T19:16:11.427Z"
   },
   {
    "duration": 5,
    "start_time": "2022-05-19T19:16:17.829Z"
   },
   {
    "duration": 503,
    "start_time": "2022-05-19T19:16:19.151Z"
   },
   {
    "duration": 1719,
    "start_time": "2022-05-19T19:16:22.016Z"
   },
   {
    "duration": 84,
    "start_time": "2022-05-19T19:17:49.057Z"
   },
   {
    "duration": 35,
    "start_time": "2022-05-19T19:18:28.799Z"
   },
   {
    "duration": 38,
    "start_time": "2022-05-19T19:18:40.353Z"
   },
   {
    "duration": 556,
    "start_time": "2022-05-19T19:18:51.519Z"
   },
   {
    "duration": 498,
    "start_time": "2022-05-19T19:19:02.775Z"
   },
   {
    "duration": 37,
    "start_time": "2022-05-19T19:19:18.047Z"
   },
   {
    "duration": 91,
    "start_time": "2022-05-19T19:19:27.954Z"
   },
   {
    "duration": 39,
    "start_time": "2022-05-19T19:20:17.325Z"
   },
   {
    "duration": 36,
    "start_time": "2022-05-19T19:21:58.441Z"
   },
   {
    "duration": 705,
    "start_time": "2022-05-19T19:22:13.216Z"
   },
   {
    "duration": 10,
    "start_time": "2022-05-19T19:23:29.503Z"
   },
   {
    "duration": 4,
    "start_time": "2022-05-19T19:23:31.190Z"
   },
   {
    "duration": 4,
    "start_time": "2022-05-19T19:23:40.966Z"
   },
   {
    "duration": 15,
    "start_time": "2022-05-19T19:24:35.878Z"
   },
   {
    "duration": 0,
    "start_time": "2022-05-19T19:27:25.577Z"
   },
   {
    "duration": 0,
    "start_time": "2022-05-19T19:27:25.580Z"
   },
   {
    "duration": 0,
    "start_time": "2022-05-19T19:27:25.581Z"
   },
   {
    "duration": 6,
    "start_time": "2022-05-19T19:27:28.167Z"
   },
   {
    "duration": 8,
    "start_time": "2022-05-19T19:27:35.396Z"
   },
   {
    "duration": 64,
    "start_time": "2022-05-19T19:27:35.407Z"
   },
   {
    "duration": 36,
    "start_time": "2022-05-19T19:27:35.472Z"
   },
   {
    "duration": 5,
    "start_time": "2022-05-19T19:27:35.510Z"
   },
   {
    "duration": 43,
    "start_time": "2022-05-19T19:27:35.517Z"
   },
   {
    "duration": 4,
    "start_time": "2022-05-19T19:27:35.562Z"
   },
   {
    "duration": 14,
    "start_time": "2022-05-19T19:27:35.568Z"
   },
   {
    "duration": 8,
    "start_time": "2022-05-19T19:27:35.583Z"
   },
   {
    "duration": 14,
    "start_time": "2022-05-19T19:27:35.593Z"
   },
   {
    "duration": 43,
    "start_time": "2022-05-19T19:27:35.609Z"
   },
   {
    "duration": 540,
    "start_time": "2022-05-19T19:27:35.653Z"
   },
   {
    "duration": 13,
    "start_time": "2022-05-19T19:27:36.195Z"
   },
   {
    "duration": 46,
    "start_time": "2022-05-19T19:27:36.210Z"
   },
   {
    "duration": 2,
    "start_time": "2022-05-19T19:27:36.259Z"
   },
   {
    "duration": 214,
    "start_time": "2022-05-19T19:27:36.263Z"
   },
   {
    "duration": 5030,
    "start_time": "2022-05-19T19:27:36.479Z"
   },
   {
    "duration": 10,
    "start_time": "2022-05-19T19:27:41.511Z"
   },
   {
    "duration": 43,
    "start_time": "2022-05-19T19:27:41.523Z"
   },
   {
    "duration": 6,
    "start_time": "2022-05-19T19:27:41.568Z"
   },
   {
    "duration": 322,
    "start_time": "2022-05-19T19:27:41.576Z"
   },
   {
    "duration": 303,
    "start_time": "2022-05-19T19:27:41.900Z"
   },
   {
    "duration": 5,
    "start_time": "2022-05-19T19:27:42.205Z"
   },
   {
    "duration": 22,
    "start_time": "2022-05-19T19:27:42.212Z"
   },
   {
    "duration": 17,
    "start_time": "2022-05-19T19:27:42.241Z"
   },
   {
    "duration": 2116,
    "start_time": "2022-05-19T19:27:42.260Z"
   },
   {
    "duration": 7,
    "start_time": "2022-05-19T19:27:44.378Z"
   },
   {
    "duration": 510,
    "start_time": "2022-05-19T19:27:44.386Z"
   },
   {
    "duration": 1910,
    "start_time": "2022-05-19T19:27:44.898Z"
   },
   {
    "duration": 4,
    "start_time": "2022-05-19T19:27:46.810Z"
   },
   {
    "duration": 28063,
    "start_time": "2022-05-19T19:27:46.816Z"
   },
   {
    "duration": 69,
    "start_time": "2022-05-19T19:28:14.881Z"
   },
   {
    "duration": 1557,
    "start_time": "2022-05-19T19:28:14.952Z"
   },
   {
    "duration": 3,
    "start_time": "2022-05-19T19:28:16.511Z"
   },
   {
    "duration": 983,
    "start_time": "2022-05-19T19:28:16.516Z"
   },
   {
    "duration": 4,
    "start_time": "2022-05-19T19:35:03.335Z"
   },
   {
    "duration": 3,
    "start_time": "2022-05-19T19:35:05.026Z"
   },
   {
    "duration": 7,
    "start_time": "2022-05-19T19:35:08.677Z"
   },
   {
    "duration": 13,
    "start_time": "2022-05-19T19:35:57.656Z"
   },
   {
    "duration": 6,
    "start_time": "2022-05-19T19:36:12.651Z"
   },
   {
    "duration": 3,
    "start_time": "2022-05-19T19:36:15.097Z"
   },
   {
    "duration": 6,
    "start_time": "2022-05-19T19:36:16.206Z"
   },
   {
    "duration": 13,
    "start_time": "2022-05-19T19:36:18.055Z"
   },
   {
    "duration": 7,
    "start_time": "2022-05-19T19:36:29.349Z"
   },
   {
    "duration": 1139,
    "start_time": "2022-05-19T19:36:31.425Z"
   },
   {
    "duration": 5,
    "start_time": "2022-05-19T19:37:41.161Z"
   },
   {
    "duration": 3,
    "start_time": "2022-05-19T19:37:43.170Z"
   },
   {
    "duration": 6,
    "start_time": "2022-05-19T19:37:44.282Z"
   },
   {
    "duration": 1108,
    "start_time": "2022-05-19T19:37:45.475Z"
   },
   {
    "duration": 6,
    "start_time": "2022-05-19T19:37:56.557Z"
   },
   {
    "duration": 1169,
    "start_time": "2022-05-19T19:37:58.795Z"
   },
   {
    "duration": 4,
    "start_time": "2022-05-19T19:38:26.502Z"
   },
   {
    "duration": 5,
    "start_time": "2022-05-19T19:38:28.006Z"
   },
   {
    "duration": 7,
    "start_time": "2022-05-19T19:38:29.828Z"
   },
   {
    "duration": 1145,
    "start_time": "2022-05-19T19:38:32.078Z"
   },
   {
    "duration": 6,
    "start_time": "2022-05-19T19:38:41.197Z"
   },
   {
    "duration": 1319,
    "start_time": "2022-05-19T19:38:46.711Z"
   },
   {
    "duration": 4,
    "start_time": "2022-05-19T19:39:03.268Z"
   },
   {
    "duration": 1282,
    "start_time": "2022-05-19T19:39:05.201Z"
   },
   {
    "duration": 3886,
    "start_time": "2022-05-19T19:43:05.280Z"
   },
   {
    "duration": 10,
    "start_time": "2022-05-19T19:43:09.168Z"
   },
   {
    "duration": 29,
    "start_time": "2022-05-19T19:43:09.179Z"
   },
   {
    "duration": 6,
    "start_time": "2022-05-19T19:43:09.210Z"
   },
   {
    "duration": 185,
    "start_time": "2022-05-19T19:43:09.218Z"
   },
   {
    "duration": 276,
    "start_time": "2022-05-19T19:43:09.405Z"
   },
   {
    "duration": 4,
    "start_time": "2022-05-19T19:43:09.682Z"
   },
   {
    "duration": 13,
    "start_time": "2022-05-19T19:43:09.688Z"
   },
   {
    "duration": 11,
    "start_time": "2022-05-19T19:43:09.702Z"
   },
   {
    "duration": 1956,
    "start_time": "2022-05-19T19:43:09.715Z"
   },
   {
    "duration": 6,
    "start_time": "2022-05-19T19:43:11.672Z"
   },
   {
    "duration": 501,
    "start_time": "2022-05-19T19:43:11.680Z"
   },
   {
    "duration": 1631,
    "start_time": "2022-05-19T19:43:12.183Z"
   },
   {
    "duration": 4,
    "start_time": "2022-05-19T19:43:13.816Z"
   },
   {
    "duration": 9,
    "start_time": "2022-05-19T19:43:13.822Z"
   },
   {
    "duration": 8,
    "start_time": "2022-05-19T19:43:13.841Z"
   },
   {
    "duration": 17,
    "start_time": "2022-05-19T19:43:13.850Z"
   },
   {
    "duration": 1051,
    "start_time": "2022-05-19T19:43:13.869Z"
   },
   {
    "duration": 2788,
    "start_time": "2022-05-19T19:43:37.088Z"
   },
   {
    "duration": 15,
    "start_time": "2022-05-19T19:43:39.879Z"
   },
   {
    "duration": 77,
    "start_time": "2022-05-19T19:43:39.896Z"
   },
   {
    "duration": 10,
    "start_time": "2022-05-19T19:43:39.976Z"
   },
   {
    "duration": 387,
    "start_time": "2022-05-19T19:43:39.989Z"
   },
   {
    "duration": 805,
    "start_time": "2022-05-19T19:43:40.378Z"
   },
   {
    "duration": 59,
    "start_time": "2022-05-19T19:43:41.185Z"
   },
   {
    "duration": 36,
    "start_time": "2022-05-19T19:43:41.247Z"
   },
   {
    "duration": 57,
    "start_time": "2022-05-19T19:43:41.285Z"
   },
   {
    "duration": 2569,
    "start_time": "2022-05-19T19:43:41.346Z"
   },
   {
    "duration": 7,
    "start_time": "2022-05-19T19:43:43.916Z"
   },
   {
    "duration": 561,
    "start_time": "2022-05-19T19:43:43.925Z"
   },
   {
    "duration": 1750,
    "start_time": "2022-05-19T19:43:44.488Z"
   },
   {
    "duration": 12,
    "start_time": "2022-05-19T19:43:46.239Z"
   },
   {
    "duration": 14,
    "start_time": "2022-05-19T19:43:46.252Z"
   },
   {
    "duration": 8,
    "start_time": "2022-05-19T19:43:46.268Z"
   },
   {
    "duration": 9,
    "start_time": "2022-05-19T19:43:46.278Z"
   },
   {
    "duration": 1168,
    "start_time": "2022-05-19T19:43:46.289Z"
   },
   {
    "duration": 13,
    "start_time": "2022-05-19T19:44:14.756Z"
   },
   {
    "duration": 983,
    "start_time": "2022-05-19T19:44:37.910Z"
   },
   {
    "duration": 7,
    "start_time": "2022-05-19T19:45:18.759Z"
   },
   {
    "duration": 59,
    "start_time": "2022-05-19T19:45:18.768Z"
   },
   {
    "duration": 45,
    "start_time": "2022-05-19T19:45:18.829Z"
   },
   {
    "duration": 5,
    "start_time": "2022-05-19T19:45:18.876Z"
   },
   {
    "duration": 25,
    "start_time": "2022-05-19T19:45:18.883Z"
   },
   {
    "duration": 4,
    "start_time": "2022-05-19T19:45:18.910Z"
   },
   {
    "duration": 26,
    "start_time": "2022-05-19T19:45:18.916Z"
   },
   {
    "duration": 13,
    "start_time": "2022-05-19T19:45:18.948Z"
   },
   {
    "duration": 18,
    "start_time": "2022-05-19T19:45:18.962Z"
   },
   {
    "duration": 8,
    "start_time": "2022-05-19T19:45:18.981Z"
   },
   {
    "duration": 545,
    "start_time": "2022-05-19T19:45:18.990Z"
   },
   {
    "duration": 23,
    "start_time": "2022-05-19T19:45:19.537Z"
   },
   {
    "duration": 18,
    "start_time": "2022-05-19T19:45:19.562Z"
   },
   {
    "duration": 3,
    "start_time": "2022-05-19T19:45:19.584Z"
   },
   {
    "duration": 260,
    "start_time": "2022-05-19T19:45:19.589Z"
   },
   {
    "duration": 2738,
    "start_time": "2022-05-19T19:45:19.851Z"
   },
   {
    "duration": 11,
    "start_time": "2022-05-19T19:45:22.590Z"
   },
   {
    "duration": 49,
    "start_time": "2022-05-19T19:45:22.602Z"
   },
   {
    "duration": 8,
    "start_time": "2022-05-19T19:45:22.656Z"
   },
   {
    "duration": 1008,
    "start_time": "2022-05-19T19:45:22.666Z"
   },
   {
    "duration": 275,
    "start_time": "2022-05-19T19:45:23.677Z"
   },
   {
    "duration": 5,
    "start_time": "2022-05-19T19:45:23.959Z"
   },
   {
    "duration": 20,
    "start_time": "2022-05-19T19:45:23.965Z"
   },
   {
    "duration": 11,
    "start_time": "2022-05-19T19:45:23.986Z"
   },
   {
    "duration": 3047,
    "start_time": "2022-05-19T19:45:23.999Z"
   },
   {
    "duration": 328,
    "start_time": "2022-05-19T19:45:27.048Z"
   },
   {
    "duration": 689,
    "start_time": "2022-05-19T19:45:27.377Z"
   },
   {
    "duration": 1798,
    "start_time": "2022-05-19T19:45:28.067Z"
   },
   {
    "duration": 6,
    "start_time": "2022-05-19T19:45:29.867Z"
   },
   {
    "duration": 19,
    "start_time": "2022-05-19T19:45:29.875Z"
   },
   {
    "duration": 10,
    "start_time": "2022-05-19T19:45:29.896Z"
   },
   {
    "duration": 11,
    "start_time": "2022-05-19T19:45:29.907Z"
   },
   {
    "duration": 1445,
    "start_time": "2022-05-19T19:45:29.920Z"
   },
   {
    "duration": 13,
    "start_time": "2022-05-19T19:46:04.109Z"
   },
   {
    "duration": 2679,
    "start_time": "2022-05-19T19:46:06.857Z"
   },
   {
    "duration": 7,
    "start_time": "2022-05-19T19:46:19.563Z"
   },
   {
    "duration": 532,
    "start_time": "2022-05-19T19:46:24.222Z"
   },
   {
    "duration": 2353,
    "start_time": "2022-05-19T19:46:30.530Z"
   },
   {
    "duration": 472,
    "start_time": "2022-05-19T19:47:02.596Z"
   },
   {
    "duration": 1245,
    "start_time": "2022-05-19T19:47:12.227Z"
   },
   {
    "duration": 9,
    "start_time": "2022-05-19T19:47:43.048Z"
   },
   {
    "duration": 508,
    "start_time": "2022-05-19T19:47:45.883Z"
   },
   {
    "duration": 1220,
    "start_time": "2022-05-19T19:47:51.456Z"
   },
   {
    "duration": 502,
    "start_time": "2022-05-19T19:49:28.146Z"
   },
   {
    "duration": 475,
    "start_time": "2022-05-19T19:49:36.168Z"
   },
   {
    "duration": 571,
    "start_time": "2022-05-19T19:49:46.816Z"
   },
   {
    "duration": 2165,
    "start_time": "2022-05-19T19:50:03.631Z"
   },
   {
    "duration": 4,
    "start_time": "2022-05-19T19:51:07.423Z"
   },
   {
    "duration": 8,
    "start_time": "2022-05-19T19:51:08.750Z"
   },
   {
    "duration": 1143,
    "start_time": "2022-05-19T19:51:09.778Z"
   },
   {
    "duration": 15,
    "start_time": "2022-05-19T19:51:39.053Z"
   },
   {
    "duration": 1293,
    "start_time": "2022-05-19T19:51:44.649Z"
   },
   {
    "duration": 2788,
    "start_time": "2022-05-19T19:53:15.008Z"
   },
   {
    "duration": 5863,
    "start_time": "2022-05-19T19:53:56.742Z"
   },
   {
    "duration": 3730,
    "start_time": "2022-05-19T19:55:04.548Z"
   },
   {
    "duration": 866,
    "start_time": "2022-05-19T19:55:24.411Z"
   },
   {
    "duration": 881,
    "start_time": "2022-05-19T19:55:55.288Z"
   },
   {
    "duration": 8,
    "start_time": "2022-05-19T19:58:49.393Z"
   },
   {
    "duration": 65,
    "start_time": "2022-05-19T19:58:49.404Z"
   },
   {
    "duration": 49,
    "start_time": "2022-05-19T19:58:49.471Z"
   },
   {
    "duration": 20,
    "start_time": "2022-05-19T19:58:49.523Z"
   },
   {
    "duration": 32,
    "start_time": "2022-05-19T19:58:49.545Z"
   },
   {
    "duration": 7,
    "start_time": "2022-05-19T19:58:49.579Z"
   },
   {
    "duration": 17,
    "start_time": "2022-05-19T19:58:49.587Z"
   },
   {
    "duration": 43,
    "start_time": "2022-05-19T19:58:49.606Z"
   },
   {
    "duration": 19,
    "start_time": "2022-05-19T19:58:49.651Z"
   },
   {
    "duration": 10,
    "start_time": "2022-05-19T19:58:49.673Z"
   },
   {
    "duration": 652,
    "start_time": "2022-05-19T19:58:49.685Z"
   },
   {
    "duration": 17,
    "start_time": "2022-05-19T19:58:50.341Z"
   },
   {
    "duration": 26,
    "start_time": "2022-05-19T19:58:50.360Z"
   },
   {
    "duration": 3,
    "start_time": "2022-05-19T19:58:50.388Z"
   },
   {
    "duration": 367,
    "start_time": "2022-05-19T19:58:50.393Z"
   },
   {
    "duration": 4063,
    "start_time": "2022-05-19T19:58:50.762Z"
   },
   {
    "duration": 20,
    "start_time": "2022-05-19T19:58:54.826Z"
   },
   {
    "duration": 22,
    "start_time": "2022-05-19T19:58:54.849Z"
   },
   {
    "duration": 8,
    "start_time": "2022-05-19T19:58:54.873Z"
   },
   {
    "duration": 1060,
    "start_time": "2022-05-19T19:58:54.883Z"
   },
   {
    "duration": 289,
    "start_time": "2022-05-19T19:58:55.945Z"
   },
   {
    "duration": 4,
    "start_time": "2022-05-19T19:58:56.242Z"
   },
   {
    "duration": 17,
    "start_time": "2022-05-19T19:58:56.248Z"
   },
   {
    "duration": 14,
    "start_time": "2022-05-19T19:58:56.266Z"
   },
   {
    "duration": 2684,
    "start_time": "2022-05-19T19:58:56.282Z"
   },
   {
    "duration": 6,
    "start_time": "2022-05-19T19:58:58.968Z"
   },
   {
    "duration": 487,
    "start_time": "2022-05-19T19:58:58.976Z"
   },
   {
    "duration": 2365,
    "start_time": "2022-05-19T19:58:59.467Z"
   },
   {
    "duration": 5,
    "start_time": "2022-05-19T19:59:01.836Z"
   },
   {
    "duration": 23,
    "start_time": "2022-05-19T19:59:01.844Z"
   },
   {
    "duration": 15,
    "start_time": "2022-05-19T19:59:01.870Z"
   },
   {
    "duration": 1091,
    "start_time": "2022-05-19T19:59:01.888Z"
   },
   {
    "duration": 774,
    "start_time": "2022-05-19T19:59:02.981Z"
   },
   {
    "duration": 1681,
    "start_time": "2022-05-20T16:15:41.127Z"
   },
   {
    "duration": 178,
    "start_time": "2022-05-20T16:15:42.811Z"
   },
   {
    "duration": 48,
    "start_time": "2022-05-20T16:15:42.992Z"
   },
   {
    "duration": 8,
    "start_time": "2022-05-20T16:15:43.042Z"
   },
   {
    "duration": 32,
    "start_time": "2022-05-20T16:15:43.053Z"
   },
   {
    "duration": 40,
    "start_time": "2022-05-20T16:15:43.088Z"
   },
   {
    "duration": 17,
    "start_time": "2022-05-20T16:15:43.134Z"
   },
   {
    "duration": 12,
    "start_time": "2022-05-20T16:15:43.153Z"
   },
   {
    "duration": 25,
    "start_time": "2022-05-20T16:15:43.167Z"
   },
   {
    "duration": 38,
    "start_time": "2022-05-20T16:15:43.194Z"
   },
   {
    "duration": 548,
    "start_time": "2022-05-20T16:15:43.234Z"
   },
   {
    "duration": 12,
    "start_time": "2022-05-20T16:15:43.784Z"
   },
   {
    "duration": 42,
    "start_time": "2022-05-20T16:15:43.811Z"
   },
   {
    "duration": 3,
    "start_time": "2022-05-20T16:15:43.857Z"
   },
   {
    "duration": 263,
    "start_time": "2022-05-20T16:15:43.862Z"
   },
   {
    "duration": 3379,
    "start_time": "2022-05-20T16:15:44.127Z"
   },
   {
    "duration": 16,
    "start_time": "2022-05-20T16:15:47.508Z"
   },
   {
    "duration": 49,
    "start_time": "2022-05-20T16:15:47.527Z"
   },
   {
    "duration": 9,
    "start_time": "2022-05-20T16:15:47.579Z"
   },
   {
    "duration": 1055,
    "start_time": "2022-05-20T16:15:47.590Z"
   },
   {
    "duration": 372,
    "start_time": "2022-05-20T16:15:48.646Z"
   },
   {
    "duration": 9,
    "start_time": "2022-05-20T16:15:49.021Z"
   },
   {
    "duration": 135,
    "start_time": "2022-05-20T16:15:49.032Z"
   },
   {
    "duration": 11,
    "start_time": "2022-05-20T16:15:49.169Z"
   },
   {
    "duration": 2601,
    "start_time": "2022-05-20T16:15:49.182Z"
   },
   {
    "duration": 7,
    "start_time": "2022-05-20T16:15:51.785Z"
   },
   {
    "duration": 535,
    "start_time": "2022-05-20T16:15:51.794Z"
   },
   {
    "duration": 2260,
    "start_time": "2022-05-20T16:15:52.331Z"
   },
   {
    "duration": 4,
    "start_time": "2022-05-20T16:15:54.592Z"
   },
   {
    "duration": 11,
    "start_time": "2022-05-20T16:15:54.613Z"
   },
   {
    "duration": 14,
    "start_time": "2022-05-20T16:15:54.628Z"
   },
   {
    "duration": 1089,
    "start_time": "2022-05-20T16:15:54.643Z"
   },
   {
    "duration": 2782,
    "start_time": "2022-05-20T16:15:55.734Z"
   },
   {
    "duration": 42,
    "start_time": "2022-05-20T16:18:52.446Z"
   },
   {
    "duration": 62,
    "start_time": "2022-05-22T08:48:12.347Z"
   },
   {
    "duration": 1538,
    "start_time": "2022-05-22T08:50:25.616Z"
   },
   {
    "duration": 163,
    "start_time": "2022-05-22T08:50:27.156Z"
   },
   {
    "duration": 41,
    "start_time": "2022-05-22T08:50:27.320Z"
   },
   {
    "duration": 6,
    "start_time": "2022-05-22T08:50:27.362Z"
   },
   {
    "duration": 36,
    "start_time": "2022-05-22T08:50:27.370Z"
   },
   {
    "duration": 22,
    "start_time": "2022-05-22T08:50:27.409Z"
   },
   {
    "duration": 39,
    "start_time": "2022-05-22T08:50:27.432Z"
   },
   {
    "duration": 25,
    "start_time": "2022-05-22T08:50:27.472Z"
   },
   {
    "duration": 54,
    "start_time": "2022-05-22T08:50:27.498Z"
   },
   {
    "duration": 10,
    "start_time": "2022-05-22T08:50:27.555Z"
   },
   {
    "duration": 680,
    "start_time": "2022-05-22T08:50:27.567Z"
   },
   {
    "duration": 13,
    "start_time": "2022-05-22T08:50:28.249Z"
   },
   {
    "duration": 32,
    "start_time": "2022-05-22T08:50:28.265Z"
   },
   {
    "duration": 5,
    "start_time": "2022-05-22T08:50:28.300Z"
   },
   {
    "duration": 240,
    "start_time": "2022-05-22T08:50:28.307Z"
   },
   {
    "duration": 2648,
    "start_time": "2022-05-22T08:50:28.550Z"
   },
   {
    "duration": 10,
    "start_time": "2022-05-22T08:50:31.199Z"
   },
   {
    "duration": 28,
    "start_time": "2022-05-22T08:50:31.210Z"
   },
   {
    "duration": 7,
    "start_time": "2022-05-22T08:50:31.240Z"
   },
   {
    "duration": 1025,
    "start_time": "2022-05-22T08:50:31.249Z"
   },
   {
    "duration": 310,
    "start_time": "2022-05-22T08:50:32.275Z"
   },
   {
    "duration": 4,
    "start_time": "2022-05-22T08:50:32.587Z"
   },
   {
    "duration": 19,
    "start_time": "2022-05-22T08:50:32.593Z"
   },
   {
    "duration": 13,
    "start_time": "2022-05-22T08:50:32.614Z"
   },
   {
    "duration": 2733,
    "start_time": "2022-05-22T08:50:32.628Z"
   },
   {
    "duration": 7,
    "start_time": "2022-05-22T08:50:35.362Z"
   },
   {
    "duration": 556,
    "start_time": "2022-05-22T08:50:35.371Z"
   },
   {
    "duration": 2729,
    "start_time": "2022-05-22T08:50:35.929Z"
   },
   {
    "duration": 3,
    "start_time": "2022-05-22T08:50:38.660Z"
   },
   {
    "duration": 18,
    "start_time": "2022-05-22T08:50:38.665Z"
   },
   {
    "duration": 6,
    "start_time": "2022-05-22T08:50:38.686Z"
   },
   {
    "duration": 1115,
    "start_time": "2022-05-22T08:50:38.694Z"
   },
   {
    "duration": 2278,
    "start_time": "2022-05-22T08:50:39.811Z"
   },
   {
    "duration": 9,
    "start_time": "2022-05-22T08:51:30.590Z"
   },
   {
    "duration": 88,
    "start_time": "2022-05-22T08:51:30.602Z"
   },
   {
    "duration": 61,
    "start_time": "2022-05-22T08:51:30.692Z"
   },
   {
    "duration": 8,
    "start_time": "2022-05-22T08:51:30.755Z"
   },
   {
    "duration": 23,
    "start_time": "2022-05-22T08:51:30.785Z"
   },
   {
    "duration": 10,
    "start_time": "2022-05-22T08:51:30.810Z"
   },
   {
    "duration": 33,
    "start_time": "2022-05-22T08:51:30.823Z"
   },
   {
    "duration": 31,
    "start_time": "2022-05-22T08:51:30.858Z"
   },
   {
    "duration": 20,
    "start_time": "2022-05-22T08:51:30.897Z"
   },
   {
    "duration": 9,
    "start_time": "2022-05-22T08:51:30.920Z"
   },
   {
    "duration": 542,
    "start_time": "2022-05-22T08:51:30.931Z"
   },
   {
    "duration": 20,
    "start_time": "2022-05-22T08:51:31.475Z"
   },
   {
    "duration": 24,
    "start_time": "2022-05-22T08:51:31.497Z"
   },
   {
    "duration": 3,
    "start_time": "2022-05-22T08:51:31.524Z"
   },
   {
    "duration": 273,
    "start_time": "2022-05-22T08:51:31.529Z"
   },
   {
    "duration": 4838,
    "start_time": "2022-05-22T08:51:31.805Z"
   },
   {
    "duration": 201,
    "start_time": "2022-05-22T08:51:36.645Z"
   },
   {
    "duration": 0,
    "start_time": "2022-05-22T08:51:36.848Z"
   },
   {
    "duration": 0,
    "start_time": "2022-05-22T08:51:36.850Z"
   },
   {
    "duration": 0,
    "start_time": "2022-05-22T08:51:36.851Z"
   },
   {
    "duration": 0,
    "start_time": "2022-05-22T08:51:36.852Z"
   },
   {
    "duration": 0,
    "start_time": "2022-05-22T08:51:36.854Z"
   },
   {
    "duration": 0,
    "start_time": "2022-05-22T08:51:36.855Z"
   },
   {
    "duration": 0,
    "start_time": "2022-05-22T08:51:36.856Z"
   },
   {
    "duration": 0,
    "start_time": "2022-05-22T08:51:36.858Z"
   },
   {
    "duration": 0,
    "start_time": "2022-05-22T08:51:36.859Z"
   },
   {
    "duration": 0,
    "start_time": "2022-05-22T08:51:36.861Z"
   },
   {
    "duration": 0,
    "start_time": "2022-05-22T08:51:36.886Z"
   },
   {
    "duration": 0,
    "start_time": "2022-05-22T08:51:36.889Z"
   },
   {
    "duration": 0,
    "start_time": "2022-05-22T08:51:36.891Z"
   },
   {
    "duration": 0,
    "start_time": "2022-05-22T08:51:36.892Z"
   },
   {
    "duration": 0,
    "start_time": "2022-05-22T08:51:36.894Z"
   },
   {
    "duration": 0,
    "start_time": "2022-05-22T08:51:36.895Z"
   },
   {
    "duration": 32,
    "start_time": "2022-05-22T08:53:44.829Z"
   },
   {
    "duration": 4822,
    "start_time": "2022-05-22T08:54:28.586Z"
   },
   {
    "duration": 15,
    "start_time": "2022-05-22T08:54:33.410Z"
   },
   {
    "duration": 58,
    "start_time": "2022-05-22T08:54:33.427Z"
   },
   {
    "duration": 10,
    "start_time": "2022-05-22T08:54:33.488Z"
   },
   {
    "duration": 1037,
    "start_time": "2022-05-22T08:54:33.500Z"
   },
   {
    "duration": 335,
    "start_time": "2022-05-22T08:54:34.539Z"
   },
   {
    "duration": 9,
    "start_time": "2022-05-22T08:54:34.875Z"
   },
   {
    "duration": 22,
    "start_time": "2022-05-22T08:54:34.889Z"
   },
   {
    "duration": 12,
    "start_time": "2022-05-22T08:54:34.914Z"
   },
   {
    "duration": 2863,
    "start_time": "2022-05-22T08:54:34.929Z"
   },
   {
    "duration": 10,
    "start_time": "2022-05-22T08:54:37.794Z"
   },
   {
    "duration": 626,
    "start_time": "2022-05-22T08:54:37.806Z"
   },
   {
    "duration": 2319,
    "start_time": "2022-05-22T08:54:38.433Z"
   },
   {
    "duration": 7,
    "start_time": "2022-05-22T08:54:40.755Z"
   },
   {
    "duration": 19,
    "start_time": "2022-05-22T08:54:40.764Z"
   },
   {
    "duration": 8,
    "start_time": "2022-05-22T08:54:40.786Z"
   },
   {
    "duration": 1177,
    "start_time": "2022-05-22T08:54:40.796Z"
   },
   {
    "duration": 3324,
    "start_time": "2022-05-22T08:54:41.974Z"
   },
   {
    "duration": 28,
    "start_time": "2022-05-22T08:58:18.999Z"
   },
   {
    "duration": 19,
    "start_time": "2022-05-22T08:59:49.292Z"
   },
   {
    "duration": 14,
    "start_time": "2022-05-22T09:02:33.890Z"
   },
   {
    "duration": 39,
    "start_time": "2022-05-22T09:04:04.974Z"
   },
   {
    "duration": 43,
    "start_time": "2022-05-22T09:04:21.550Z"
   },
   {
    "duration": 7,
    "start_time": "2022-05-22T09:04:28.850Z"
   },
   {
    "duration": 2237,
    "start_time": "2022-05-22T09:04:34.958Z"
   },
   {
    "duration": 40,
    "start_time": "2022-05-22T09:05:04.802Z"
   },
   {
    "duration": 5,
    "start_time": "2022-05-22T09:05:30.119Z"
   },
   {
    "duration": 2274,
    "start_time": "2022-05-22T09:05:33.979Z"
   },
   {
    "duration": 12,
    "start_time": "2022-05-22T09:05:55.879Z"
   },
   {
    "duration": 229,
    "start_time": "2022-05-22T09:05:55.894Z"
   },
   {
    "duration": 39,
    "start_time": "2022-05-22T09:05:56.125Z"
   },
   {
    "duration": 26,
    "start_time": "2022-05-22T09:05:56.166Z"
   },
   {
    "duration": 24,
    "start_time": "2022-05-22T09:05:56.199Z"
   },
   {
    "duration": 4,
    "start_time": "2022-05-22T09:05:56.225Z"
   },
   {
    "duration": 15,
    "start_time": "2022-05-22T09:05:56.231Z"
   },
   {
    "duration": 9,
    "start_time": "2022-05-22T09:05:56.247Z"
   },
   {
    "duration": 45,
    "start_time": "2022-05-22T09:05:56.257Z"
   },
   {
    "duration": 11,
    "start_time": "2022-05-22T09:05:56.304Z"
   },
   {
    "duration": 600,
    "start_time": "2022-05-22T09:05:56.317Z"
   },
   {
    "duration": 18,
    "start_time": "2022-05-22T09:05:56.920Z"
   },
   {
    "duration": 33,
    "start_time": "2022-05-22T09:05:56.940Z"
   },
   {
    "duration": 7,
    "start_time": "2022-05-22T09:05:56.985Z"
   },
   {
    "duration": 240,
    "start_time": "2022-05-22T09:05:57.001Z"
   },
   {
    "duration": 2884,
    "start_time": "2022-05-22T09:05:57.243Z"
   },
   {
    "duration": 9,
    "start_time": "2022-05-22T09:06:00.129Z"
   },
   {
    "duration": 23,
    "start_time": "2022-05-22T09:06:00.140Z"
   },
   {
    "duration": 11,
    "start_time": "2022-05-22T09:06:00.185Z"
   },
   {
    "duration": 1102,
    "start_time": "2022-05-22T09:06:00.198Z"
   },
   {
    "duration": 304,
    "start_time": "2022-05-22T09:06:01.306Z"
   },
   {
    "duration": 5,
    "start_time": "2022-05-22T09:06:01.612Z"
   },
   {
    "duration": 17,
    "start_time": "2022-05-22T09:06:01.618Z"
   },
   {
    "duration": 21,
    "start_time": "2022-05-22T09:06:01.636Z"
   },
   {
    "duration": 2283,
    "start_time": "2022-05-22T09:06:01.659Z"
   },
   {
    "duration": 10,
    "start_time": "2022-05-22T09:06:03.946Z"
   },
   {
    "duration": 561,
    "start_time": "2022-05-22T09:06:03.957Z"
   },
   {
    "duration": 2791,
    "start_time": "2022-05-22T09:06:04.521Z"
   },
   {
    "duration": 4,
    "start_time": "2022-05-22T09:06:07.314Z"
   },
   {
    "duration": 54,
    "start_time": "2022-05-22T09:06:07.320Z"
   },
   {
    "duration": 46,
    "start_time": "2022-05-22T09:06:07.375Z"
   },
   {
    "duration": 1219,
    "start_time": "2022-05-22T09:06:07.423Z"
   },
   {
    "duration": 2548,
    "start_time": "2022-05-22T09:06:08.644Z"
   },
   {
    "duration": 47,
    "start_time": "2022-05-22T09:07:01.000Z"
   }
  ],
  "kernelspec": {
   "display_name": "Python 3 (ipykernel)",
   "language": "python",
   "name": "python3"
  },
  "language_info": {
   "codemirror_mode": {
    "name": "ipython",
    "version": 3
   },
   "file_extension": ".py",
   "mimetype": "text/x-python",
   "name": "python",
   "nbconvert_exporter": "python",
   "pygments_lexer": "ipython3",
   "version": "3.9.5"
  },
  "toc": {
   "base_numbering": 1,
   "nav_menu": {},
   "number_sections": true,
   "sideBar": true,
   "skip_h1_title": true,
   "title_cell": "Содержание",
   "title_sidebar": "Contents",
   "toc_cell": true,
   "toc_position": {
    "height": "calc(100% - 180px)",
    "left": "10px",
    "top": "150px",
    "width": "281.438px"
   },
   "toc_section_display": true,
   "toc_window_display": true
  }
 },
 "nbformat": 4,
 "nbformat_minor": 2
}
